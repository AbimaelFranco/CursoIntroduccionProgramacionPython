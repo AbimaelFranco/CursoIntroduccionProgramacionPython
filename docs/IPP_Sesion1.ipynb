{
  "cells": [
    {
      "cell_type": "markdown",
      "metadata": {
        "colab_type": "text",
        "id": "view-in-github"
      },
      "source": [
        "<a href=\"https://colab.research.google.com/github/AbimaelFranco/CursoIntroduccionProgramacionPython-Privado/blob/main/IPP_Sesion1_Priv.ipynb\" target=\"_parent\"><img src=\"https://colab.research.google.com/assets/colab-badge.svg\" alt=\"Open In Colab\"/></a>"
      ]
    },
    {
      "cell_type": "markdown",
      "metadata": {
        "id": "sZmIVgccV2YF"
      },
      "source": [
        "# Introducción a la Programación en Python - Sesión 1"
      ]
    },
    {
      "cell_type": "markdown",
      "metadata": {
        "id": "uG8Jf8d1WAYm"
      },
      "source": [
        "## Presentación del Curso\n",
        "**Objetivo:** Aprender los fundamentos de la programación utilizando Python.\n",
        "\n",
        "**Metodología:** Explicaciones breves + ejemplos + ejercicios prácticos.\n",
        "\n",
        "**Herramientas:**\n",
        "* Google Colab (para practicar en la nube).\n",
        "* Visual Studio Code (para desarrollo local)."
      ]
    },
    {
      "cell_type": "markdown",
      "metadata": {
        "id": "_MFTEPrTWhZO"
      },
      "source": [
        "## Instalación y configuración\n",
        "\n",
        "**Python:** Lenguaje de programación interpretado, multiplataforma, de fácil sintaxis.\n",
        "\n",
        "**IDE:** Entorno de desarrollo para escribir y ejecutar código. Usaremos VSCode.\n",
        "\n",
        "👉 En Colab no necesitamos instalar nada: ya tiene Python listo.\n",
        "\n",
        "👉 En VSCode: debemos instalar Python y la extensión oficial de Python."
      ]
    },
    {
      "cell_type": "markdown",
      "metadata": {
        "id": "YWsQ3NcqWsJ5"
      },
      "source": [
        "## Primer Programa en Python\n",
        "\n",
        "print() es una función que muestra información en pantalla.\n",
        "\n",
        "Las comillas \" \" indican una cadena de texto.\n",
        "\n",
        "💡 Ejercicio: cambia el mensaje y escribe tu propio saludo."
      ]
    },
    {
      "cell_type": "code",
      "execution_count": null,
      "metadata": {
        "colab": {
          "base_uri": "https://localhost:8080/"
        },
        "id": "dyF5uDoOU-Wp",
        "outputId": "8109de54-9675-447d-ee53-707d304b9aae"
      },
      "outputs": [
        {
          "name": "stdout",
          "output_type": "stream",
          "text": [
            "Hola Mundo\n"
          ]
        }
      ],
      "source": [
        "print(\"Hola Mundo\")"
      ]
    },
    {
      "cell_type": "markdown",
      "metadata": {
        "id": "qPymVhB9XL41"
      },
      "source": [
        "## Sintaxis Básica\n",
        "\n",
        "Python tiene reglas de escritura que debemos seguir:\n",
        "\n",
        "Indentación: los bloques de código se organizan con espacios (4 espacios recomendados).\n",
        "\n",
        "Comentarios: sirven para documentar el código y no se ejecutan.\n",
        "\n",
        "Comentario de una línea:"
      ]
    },
    {
      "cell_type": "code",
      "execution_count": null,
      "metadata": {
        "id": "Umv-MeLSW1vD"
      },
      "outputs": [],
      "source": [
        "# Esto es un comentario, no se ejecutaria"
      ]
    },
    {
      "cell_type": "markdown",
      "metadata": {
        "id": "nzkooXb-XYZV"
      },
      "source": [
        "## Variables y tipos de datos\n",
        "\n",
        "Una variable es un espacio en memoria que guarda un valor.\n",
        "\n",
        "Se conforma por:\n",
        "\n",
        "* Nombre (identificador)\n",
        "\n",
        "* Tipo (Tipo de valor a almacenar)\n",
        "\n",
        "* Valor (El valor que almecenara correspondiente a su tipo)\n",
        "\n",
        "Los tipos de dato pueden ser:\n",
        "\n",
        "* str: texto\n",
        "\n",
        "* int: número entero\n",
        "\n",
        "* float: número con decimales\n",
        "\n",
        "* bool: verdadero/falso\n",
        "\n",
        "💡 Ejercicio: crea una variable con tu nombre, tu edad y si eres estudiante."
      ]
    },
    {
      "cell_type": "code",
      "execution_count": null,
      "metadata": {
        "colab": {
          "base_uri": "https://localhost:8080/"
        },
        "id": "zgnX1JjcXVcF",
        "outputId": "9f3d8c75-c1da-4a20-d7eb-b767ba28a792"
      },
      "outputs": [
        {
          "name": "stdout",
          "output_type": "stream",
          "text": [
            "Ana 20 1.7 True\n",
            "<class 'str'>\n"
          ]
        }
      ],
      "source": [
        "# Ejemplos de variables\n",
        "nombre = \"Ana\"     # str (cadena de texto)\n",
        "edad = 20          # int (entero)\n",
        "altura = 1.70      # float (decimal)\n",
        "estudiante = True  # bool (booleano: True o False)\n",
        "\n",
        "print(nombre, edad, altura, estudiante)\n",
        "print(type(nombre))"
      ]
    },
    {
      "cell_type": "code",
      "execution_count": null,
      "metadata": {
        "colab": {
          "base_uri": "https://localhost:8080/"
        },
        "id": "6WYVnMQaX0ZY",
        "outputId": "fa822ab6-2999-4b11-ac78-74ce2f7bf648"
      },
      "outputs": [
        {
          "name": "stdout",
          "output_type": "stream",
          "text": [
            "Hola, Alex\n",
            "Hola, Alex\n",
            "Hola,  Alex\n",
            "Hola, que tal estas Alex\n"
          ]
        }
      ],
      "source": [
        "# Formas de concatenar\n",
        "saludo = \"Hola, \"\n",
        "nombre = \"Alex\"\n",
        "saludocompleto = saludo + nombre\n",
        "\n",
        "print(saludocompleto)\n",
        "print(saludo + nombre)\n",
        "print(f\"{saludo} {nombre}\")\n",
        "print(f\"Hola, que tal estas {nombre}\")"
      ]
    },
    {
      "cell_type": "markdown",
      "metadata": {
        "id": "jbeycQ1-cExc"
      },
      "source": [
        "## 🚫 Nombres de variables no válidos en Python\n",
        "\n",
        "En Python, un nombre de variable debe seguir ciertas reglas. No seguirlas genera errores al ejecutar el programa.\n",
        "\n",
        "Reglas básicas para nombres de variables válidos:\n",
        "\n",
        "* Pueden contener letras, números y guiones bajos (_).\n",
        "\n",
        "* No pueden empezar con un número.\n",
        "\n",
        "* No pueden ser palabras reservadas de Python (como if, for, while, print, True, False, None).\n",
        "\n",
        "* No pueden contener espacios ni símbolos especiales (como @, #, !, -)."
      ]
    },
    {
      "cell_type": "code",
      "execution_count": null,
      "metadata": {
        "id": "XEXW1_dJcMkr"
      },
      "outputs": [],
      "source": [
        "edad_usuario = 20\n",
        "nombre_completo = \"Ana\"\n",
        "nombre_completo2 = \"Luis\"\n",
        "\n",
        "# Nombres no validos:\n",
        "# 2edad = 24\n",
        "# mi-variable = 5\n",
        "# if = \"condicional\"\n",
        "# edad años = 25\n",
        "# !nombre = \"Abimael\""
      ]
    },
    {
      "cell_type": "markdown",
      "metadata": {
        "id": "L5YB_5-CYnMx"
      },
      "source": [
        "## Operadores Aritméticos y de Asignación"
      ]
    },
    {
      "cell_type": "code",
      "execution_count": null,
      "metadata": {
        "colab": {
          "base_uri": "https://localhost:8080/"
        },
        "id": "xsURizo3YYIr",
        "outputId": "ec5b279b-3e25-4cc8-adf0-097b928e5d10"
      },
      "outputs": [
        {
          "name": "stdout",
          "output_type": "stream",
          "text": [
            "13\n",
            "7\n",
            "30\n",
            "3.3333333333333335\n",
            "3\n",
            "1\n",
            "1000\n"
          ]
        }
      ],
      "source": [
        "# Operadores aritmeticos\n",
        "\n",
        "a = 10\n",
        "b = 3\n",
        "\n",
        "print(a + b)  # suma\n",
        "print(a - b)  # resta\n",
        "print(a * b)  # multiplicación\n",
        "print(a / b)  # división\n",
        "print(a // b) # división entera\n",
        "print(a % b)  # módulo (residuo)\n",
        "print(a ** b) # potencia"
      ]
    },
    {
      "cell_type": "code",
      "execution_count": null,
      "metadata": {
        "colab": {
          "base_uri": "https://localhost:8080/"
        },
        "id": "9a3ObWV8Ytc1",
        "outputId": "a77a0bfe-df6e-4639-c9ae-d55837a66320"
      },
      "outputs": [
        {
          "name": "stdout",
          "output_type": "stream",
          "text": [
            "x = 5\n",
            "x = 7\n",
            "x = 21\n"
          ]
        }
      ],
      "source": [
        "# Operadores de Asignación\n",
        "\n",
        "x = 5     # asignación\n",
        "print(f\"x = {x}\")\n",
        "x += 2    # equivalente a x = x + 2\n",
        "print(f\"x = {x}\")\n",
        "x *= 3    # equivalente a x = x * 3\n",
        "print(f\"x = {x}\")"
      ]
    },
    {
      "cell_type": "markdown",
      "metadata": {
        "id": "rii3MYMhaw8S"
      },
      "source": [
        "# Tarea\n",
        "\n",
        "Instrucciones: Realiza la tarea a mano o en computadora, máximo 2 páginas. Entrega en formato PDF.\n",
        "\n",
        "\n",
        "---\n",
        "\n",
        "\n",
        "**Tabla de tipos de datos**\n",
        "* Realiza una tabla con los principales tipos de datos en Python.\n",
        "\n",
        "* La tabla debe incluir: el nombre del tipo de dato, una breve descripción y un ejemplo de valor para cada uno.\n",
        "\n",
        "**Operadores**\n",
        "\n",
        "Escribe un párrafo explicando la diferencia entre los operadores:\n",
        "\n",
        "* División /\n",
        "\n",
        "* División entera //\n",
        "\n",
        "* Módulo %\n",
        "\n",
        "**Investigación condicional if**\n",
        "* Investiga y redacta un breve resumen sobre qué es el condicional if en Python y para qué se utiliza.\n",
        "\n",
        "* Incluye al menos un ejemplo simple de uso."
      ]
    },
    {
      "cell_type": "markdown",
      "metadata": {
        "id": "BbHI_ijBZPcv"
      },
      "source": [
        "# Resumen de la sesión\n",
        "\n",
        "✔️ Conocimos el curso y herramientas.\n",
        "\n",
        "✔️ Ejecutamos nuestro primer programa.\n",
        "\n",
        "✔️ Aprendimos sintaxis básica y comentarios.\n",
        "\n",
        "✔️ Definimos variables y tipos de datos.\n",
        "\n",
        "✔️ Practicamos operadores aritméticos y de asignación."
      ]
    }
  ],
  "metadata": {
    "colab": {
      "authorship_tag": "ABX9TyNEQxCWlDHb4KGMHnfIx92O",
      "include_colab_link": true,
      "provenance": []
    },
    "kernelspec": {
      "display_name": "Python 3",
      "name": "python3"
    },
    "language_info": {
      "name": "python"
    }
  },
  "nbformat": 4,
  "nbformat_minor": 0
}
