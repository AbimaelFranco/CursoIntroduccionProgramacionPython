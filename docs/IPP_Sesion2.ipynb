{
  "cells": [
    {
      "cell_type": "markdown",
      "metadata": {
        "colab_type": "text",
        "id": "view-in-github"
      },
      "source": [
        "<a href=\"https://colab.research.google.com/github/AbimaelFranco/CursoIntroduccionProgramacionPython/blob/main/IPP_Sesion2.ipynb\" target=\"_parent\"><img src=\"https://colab.research.google.com/assets/colab-badge.svg\" alt=\"Open In Colab\"/></a>"
      ]
    },
    {
      "cell_type": "markdown",
      "metadata": {
        "id": "7cdh7_5B13_z"
      },
      "source": [
        "# Introducción a la Programación en Python - Sesión 2\n",
        "\n",
        "## Contenido del cuaderno\n",
        "\n",
        "- Operadores lógicos (`and`, `or`, `not`)\n",
        "- Función `input()`\n",
        "- Conversión de tipos de datos\n",
        "- Condicionales (`if`, `elif`, `else`)\n",
        "- Ciclo `while`"
      ]
    },
    {
      "cell_type": "markdown",
      "metadata": {
        "id": "4dP0jNpF3G27"
      },
      "source": [
        "## Operadores lógicos\n",
        "### Tipo de dato lógico\n",
        "- `True` (verdadero / 1)\n",
        "- `False` (falso / 0)\n",
        "\n",
        "### Operaciones lógicas\n",
        "- `and`: verdadero si **ambas** condiciones son verdaderas.\n",
        "\n",
        "| A     | B     | A and B |\n",
        "| ----- | ----- | ------- |\n",
        "| True  | True  | True    |\n",
        "| True  | False | False   |\n",
        "| False | True  | False   |\n",
        "| False | False | False   |\n",
        "\n",
        "- `or`: verdadero si **al menos una** condición es verdadera.\n",
        "\n",
        "| A     | B     | A or B |\n",
        "| ----- | ----- | ------ |\n",
        "| True  | True  | True   |\n",
        "| True  | False | True   |\n",
        "| False | True  | True   |\n",
        "| False | False | False  |\n",
        "\n",
        "- `not`: invierte el valor lógico.\n",
        "\n",
        "| A     | not A |\n",
        "| ----- | ----- |\n",
        "| True  | False |\n",
        "| False | True  |"
      ]
    },
    {
      "cell_type": "markdown",
      "metadata": {
        "id": "rDOvow6o3L1u"
      },
      "source": [
        "### Función `input()`\n",
        "Se usa para **recibir datos desde el teclado**:"
      ]
    },
    {
      "cell_type": "code",
      "execution_count": 6,
      "metadata": {
        "colab": {
          "base_uri": "https://localhost:8080/"
        },
        "id": "Tt0Bq5hB3R-h",
        "outputId": "705ceff1-69ac-427d-b89f-ce78b7b0db93"
      },
      "outputs": [
        {
          "name": "stdout",
          "output_type": "stream",
          "text": [
            "Escribe tu nombre: Alex\n",
            "Escribe tu edad:24\n"
          ]
        }
      ],
      "source": [
        "nombre = input(\"Escribe tu nombre: \")\n",
        "edad = input(\"Escribe tu edad:\")"
      ]
    },
    {
      "cell_type": "markdown",
      "metadata": {
        "id": "VkNSGiFA3VK4"
      },
      "source": [
        "Nota: siempre devuelve una **cadena de texto** (`str`).\n",
        "\n",
        "Para ver a que tipo de dato pertenece una variable se puede utilizar la función type."
      ]
    },
    {
      "cell_type": "code",
      "execution_count": 7,
      "metadata": {
        "colab": {
          "base_uri": "https://localhost:8080/"
        },
        "id": "nxuFBoWV377j",
        "outputId": "8ee5ee9f-9773-4426-f01e-75d42a0384d7"
      },
      "outputs": [
        {
          "name": "stdout",
          "output_type": "stream",
          "text": [
            "tipo de dato de nombre: <class 'str'>\n",
            "tipo de dato de edad: <class 'str'>\n"
          ]
        }
      ],
      "source": [
        "print(f\"tipo de dato de nombre: {type(nombre)}\")\n",
        "print(f\"tipo de dato de edad: {type(edad)}\")"
      ]
    },
    {
      "cell_type": "markdown",
      "metadata": {
        "id": "C0fUqasO5GBj"
      },
      "source": [
        "## Conversión de tipos de datos\n",
        "\n",
        "- Python es un lenguaje dinámico, el cual asigna automaticamente el tipo de dato.\n",
        "- Para aplicar un operador los datos deben ser del mismo tipo"
      ]
    },
    {
      "cell_type": "code",
      "execution_count": 12,
      "metadata": {
        "colab": {
          "base_uri": "https://localhost:8080/"
        },
        "id": "uYrprWGb5YlF",
        "outputId": "537f6c20-ef17-40c8-aa0e-1cbae9b22fcb"
      },
      "outputs": [
        {
          "name": "stdout",
          "output_type": "stream",
          "text": [
            "15\n",
            "510\n"
          ]
        }
      ],
      "source": [
        "# Ejemplo de operador aritmetico con distintos tipos de dato\n",
        "a = 5\n",
        "b = \"5\"\n",
        "c = 10\n",
        "d = \"10\"\n",
        "# print(a + b) # Esta operación daria error: TypeError: unsupported operand type(s) for +: 'int' and 'str'\n",
        "print(a + c)   # Esta operacion daria de resultado: 10\n",
        "print(b + d)   # Esta operación SI es válida, pero el resultado es: 510"
      ]
    },
    {
      "cell_type": "markdown",
      "metadata": {
        "id": "hprvtfkx6EYS"
      },
      "source": [
        "- Para cambiar los tipos de datos en Python se tienen las siguientes funciones:\n",
        "### int()\n",
        "Convierte a entero\n",
        "\n",
        "### float()\n",
        "Convierte a decimal\n",
        "\n",
        "### str()\n",
        "Convierte a string (cadena de texto)\n",
        "\n",
        "### bool()\n",
        "Convierte a booleano"
      ]
    },
    {
      "cell_type": "code",
      "execution_count": 19,
      "metadata": {
        "colab": {
          "base_uri": "https://localhost:8080/"
        },
        "id": "uMbcpO0Z6bMi",
        "outputId": "8959233f-36b7-4c80-a7c7-f067a18a32e6"
      },
      "outputs": [
        {
          "name": "stdout",
          "output_type": "stream",
          "text": [
            "5\n",
            "5.9126\n",
            "5.9126\n",
            "True\n"
          ]
        }
      ],
      "source": [
        "a = 5.9126\n",
        "print(int(a))\n",
        "print(float(a))\n",
        "print(str(a))\n",
        "print(bool(a))"
      ]
    },
    {
      "cell_type": "markdown",
      "metadata": {
        "id": "AELFPahg13_1"
      },
      "source": [
        "## Estructuras de Control"
      ]
    },
    {
      "cell_type": "markdown",
      "metadata": {
        "id": "yZZMATpJ-qIP"
      },
      "source": [
        "1. Condicionales `if`, `elif`, `else`\n",
        "- Establece una condición.\n",
        "- Sí \" --- \" entonces \" --- \"\n",
        "- Permiten ejecutar diferentes bloques de código dependiendo de una condición."
      ]
    },
    {
      "cell_type": "code",
      "execution_count": 28,
      "metadata": {
        "id": "tZiXnlC-8uFQ"
      },
      "outputs": [],
      "source": [
        "# Estructura del condicional if\n",
        "# if: Condicion inicial\n",
        "# elif: n-esima condicion\n",
        "# else: Si no se cumple ninguna condicion\n",
        "# Las condiciones deben ser valores booleanos\n",
        "# Se ejecuta la primera condicion verdader\n",
        "\n",
        "# if condicion:\n",
        "    # Código a ejecutar si la condición es verdadera\n",
        "# elif condicion2:\n",
        "    # Código a ejecutar si la condición2 es verdadera\n",
        "# else:\n",
        "    # Código a ejecutar si ninguna condición es verdadera"
      ]
    },
    {
      "cell_type": "code",
      "execution_count": 22,
      "metadata": {
        "colab": {
          "base_uri": "https://localhost:8080/"
        },
        "id": "ks5BiSR67tJT",
        "outputId": "96fb88b3-fd21-4496-8e4b-ea5388968a2d"
      },
      "outputs": [
        {
          "name": "stdout",
          "output_type": "stream",
          "text": [
            "Luis reprobó\n"
          ]
        }
      ],
      "source": [
        "# Si nota >= 61: Aprobado, caso contrario: Reprueba\n",
        "estudiante = \"Luis\"\n",
        "nota = 40\n",
        "\n",
        "if nota >= 61:\n",
        "  print(f\"{estudiante} aprobó\")\n",
        "else:\n",
        "  print(f\"{estudiante} reprobó\")"
      ]
    },
    {
      "cell_type": "code",
      "execution_count": 27,
      "metadata": {
        "colab": {
          "base_uri": "https://localhost:8080/"
        },
        "id": "331o2kbV13_1",
        "outputId": "62c7197f-e34c-4952-fb06-ab22ae9cbacd"
      },
      "outputs": [
        {
          "name": "stdout",
          "output_type": "stream",
          "text": [
            "x es positivo\n"
          ]
        }
      ],
      "source": [
        "# Si el valor es > 0: positivo, si es < 0: negativo, si no es ni positivo ni negativo es 0\n",
        "x = 50\n",
        "\n",
        "if x > 0:\n",
        "    print(\"x es positivo\")\n",
        "elif x < 0:\n",
        "    print(\"x es negativo\")\n",
        "else:\n",
        "    print(\"x es cero\")"
      ]
    },
    {
      "cell_type": "code",
      "execution_count": 29,
      "metadata": {
        "colab": {
          "base_uri": "https://localhost:8080/"
        },
        "id": "e7qJej109jYs",
        "outputId": "4313756c-9791-4412-94b6-3d42ad37daaa"
      },
      "outputs": [
        {
          "name": "stdout",
          "output_type": "stream",
          "text": [
            "Puedes conducir\n"
          ]
        }
      ],
      "source": [
        "# Ejemplo con operacion booleana\n",
        "edad = 20\n",
        "tiene_carnet = True\n",
        "\n",
        "if edad >= 18 and tiene_carnet:\n",
        "    print(\"Puedes conducir\")\n",
        "else:\n",
        "    print(\"No puedes conducir\")"
      ]
    },
    {
      "cell_type": "code",
      "execution_count": 31,
      "metadata": {
        "colab": {
          "base_uri": "https://localhost:8080/"
        },
        "id": "zmGyIxlI92-g",
        "outputId": "264270e4-54ce-4d3f-bca0-53843d42343f"
      },
      "outputs": [
        {
          "name": "stdout",
          "output_type": "stream",
          "text": [
            "El numero es mayor que 20\n"
          ]
        }
      ],
      "source": [
        "# Ejemplo de doble condicion booleana\n",
        "numero = 45\n",
        "\n",
        "if numero < 20:\n",
        "  print(\"El numero es menor que 20\")\n",
        "elif numero >= 20:\n",
        "  print(\"El numero es mayor que 20\")\n",
        "elif numero >= 30:\n",
        "  print(\"El numero es mayor que 30\")"
      ]
    },
    {
      "cell_type": "markdown",
      "metadata": {
        "id": "SdCsjs5Z-9D2"
      },
      "source": [
        "2. Ciclos `while`\n",
        "\n",
        "- Un ciclo **while** repite repetir condigo en base a una condición.\n",
        "- Mientras se cumpla \" --- \" entonces \" --- \"\n",
        "- Ejecuta el codigo mientras la condición siga siendo verdadera"
      ]
    },
    {
      "cell_type": "code",
      "execution_count": 34,
      "metadata": {
        "id": "zdA5P0Gf_0y8"
      },
      "outputs": [],
      "source": [
        "# Estructura del condicional if\n",
        "# while: Condicion inicial\n",
        "# break: rompe un while\n",
        "# continue: salta a la siguiente iteracion\n",
        "\n",
        "# while condicion:\n",
        "    # Código a ejecutar si la condición es verdadera"
      ]
    },
    {
      "cell_type": "code",
      "execution_count": 38,
      "metadata": {
        "colab": {
          "base_uri": "https://localhost:8080/"
        },
        "id": "K4Df2wv3_CEk",
        "outputId": "9841cc08-1183-466a-b7f0-1d93e186d2cb"
      },
      "outputs": [
        {
          "name": "stdout",
          "output_type": "stream",
          "text": [
            "Iteración: 1\n",
            "Iteración: 2\n",
            "Iteración: 3\n",
            "Iteración: 4\n",
            "Iteración: 5\n"
          ]
        }
      ],
      "source": [
        "# Ciclo while (sin break)\n",
        "contador = 1\n",
        "limite = 5\n",
        "\n",
        "while contador <= limite:\n",
        "  print(\"Iteración:\", contador)\n",
        "  contador += 1"
      ]
    },
    {
      "cell_type": "code",
      "execution_count": 40,
      "metadata": {
        "colab": {
          "base_uri": "https://localhost:8080/"
        },
        "id": "NsUeFNPIAKQX",
        "outputId": "6ffad13f-de30-46ce-abb3-06029d3d204c"
      },
      "outputs": [
        {
          "name": "stdout",
          "output_type": "stream",
          "text": [
            "Adivina que color primario estoy pensando\n",
            "Ingrese su respuesta: amarillo\n",
            "Incorrecto\n",
            "Ingrese su respuesta: azul\n",
            "Incorrecto\n",
            "Ingrese su respuesta: rojo\n",
            "¡Correcto!\n",
            "Gracias por haber jugado\n"
          ]
        }
      ],
      "source": [
        "# Ciclo while con break\n",
        "print(\"Adivina que color primario estoy pensando\")\n",
        "respuesta = \"rojo\"\n",
        "contador = 1\n",
        "limite = 3\n",
        "\n",
        "while contador <= limite:\n",
        "  jugador = input(\"Ingrese su respuesta: \")\n",
        "  if jugador == respuesta:\n",
        "    print(\"¡Correcto!\")\n",
        "    break\n",
        "  else:\n",
        "    print(\"Incorrecto\")\n",
        "  contador += 1\n",
        "\n",
        "print(\"Gracias por haber jugado\")"
      ]
    },
    {
      "cell_type": "code",
      "execution_count": 43,
      "metadata": {
        "colab": {
          "base_uri": "https://localhost:8080/"
        },
        "id": "N1aQVayWBGHr",
        "outputId": "81a46412-6e1b-4fff-c4bb-ee83fc8135df"
      },
      "outputs": [
        {
          "name": "stdout",
          "output_type": "stream",
          "text": [
            "🎮 ¡Bienvenido al juego de preguntas!\n",
            "\n",
            "¡Comienza el juego!\n",
            "¿Cuál es la capital de Francia? portugal\n",
            "❌ Incorrecto. Llevas 1 fallos.\n",
            "¿Cuál es la capital de Francia? paris\n",
            "✅ Correcto!\n",
            "¿Cuánto es 5 + 7? 8\n",
            "❌ Incorrecto. Llevas 2 fallos.\n",
            "¿Cuánto es 5 + 7? 6\n",
            "❌ Incorrecto. Llevas 3 fallos.\n",
            "💀 Has perdido. Demasiados errores.\n",
            "\n",
            "¿Quieres jugar de nuevo? (si/no): s\n",
            "\n",
            "¡Comienza el juego!\n",
            "¿Cuál es la capital de Francia? n\n",
            "❌ Incorrecto. Llevas 1 fallos.\n",
            "¿Cuál es la capital de Francia? paris\n",
            "✅ Correcto!\n",
            "¿Cuánto es 5 + 7? 12\n",
            "✅ Correcto! 🎉 Ganaste una vida extra.\n",
            "¿Cuál es el color resultante de mezclar rojo y azul? morado\n",
            "🏆 ¡Correcto! ¡Has ganado el juego!\n",
            "\n",
            "¿Quieres jugar de nuevo? (s/n): n\n",
            "👋 ¡Gracias por jugar!\n"
          ]
        }
      ],
      "source": [
        "# Ejemplo de juego de adivinanzas\n",
        "\n",
        "# Preguntas y respuestas\n",
        "pregunta1 = \"¿Cuál es la capital de Francia?\"\n",
        "respuesta1 = \"paris\"\n",
        "\n",
        "pregunta2 = \"¿Cuánto es 5 + 7?\"\n",
        "respuesta2 = \"12\"\n",
        "\n",
        "pregunta3 = \"¿Cuál es el color resultante de mezclar rojo y azul?\"\n",
        "respuesta3 = \"morado\"\n",
        "\n",
        "# Variables de control\n",
        "vidas = 3\n",
        "\n",
        "jugar = \"s\"\n",
        "\n",
        "print(\"🎮 ¡Bienvenido al juego de preguntas!\")\n",
        "\n",
        "while jugar == \"s\":\n",
        "    errores = 0\n",
        "    vidas_juego = vidas\n",
        "\n",
        "    print(\"\\n¡Comienza el juego!\")\n",
        "\n",
        "    # Pregunta 1\n",
        "    while True:\n",
        "        respuesta = input(pregunta1 + \" \")\n",
        "        if respuesta == respuesta1:\n",
        "            print(\"✅ Correcto!\")\n",
        "            break\n",
        "        else:\n",
        "            errores += 1\n",
        "            print(f\"❌ Incorrecto. Llevas {errores} fallos.\")\n",
        "            if errores >= vidas_juego:\n",
        "                print(\"💀 Has perdido. Demasiados errores.\")\n",
        "                break\n",
        "\n",
        "    if errores >= 3:\n",
        "        jugar = input(\"\\n¿Quieres jugar de nuevo? (s/n): \")\n",
        "        continue\n",
        "\n",
        "    # Pregunta 2\n",
        "    while True:\n",
        "        respuesta = input(pregunta2 + \" \")\n",
        "        if respuesta == respuesta2:\n",
        "            print(\"✅ Correcto! 🎉 Ganaste una vida extra.\")\n",
        "            vidas_juego += 1  # Vida extra\n",
        "            break\n",
        "        else:\n",
        "            errores += 1\n",
        "            print(f\"❌ Incorrecto. Llevas {errores} fallos.\")\n",
        "            if errores >= vidas_juego:\n",
        "                print(\"💀 Has perdido. Demasiados errores.\")\n",
        "                break\n",
        "\n",
        "    if errores >= 3:\n",
        "        jugar = input(\"\\n¿Quieres jugar de nuevo? (s/n): \")\n",
        "        continue\n",
        "\n",
        "    # Pregunta 3\n",
        "    while True:\n",
        "        respuesta = input(pregunta3 + \" \")\n",
        "        if respuesta == respuesta3:\n",
        "            print(\"🏆 ¡Correcto! ¡Has ganado el juego!\")\n",
        "            break\n",
        "        else:\n",
        "            errores += 1\n",
        "            print(f\"❌ Incorrecto. Llevas {errores} fallos.\")\n",
        "            if errores >= vidas_juego:\n",
        "                print(\"💀 Has perdido. Demasiados errores.\")\n",
        "                break\n",
        "\n",
        "    # Preguntar si desea jugar de nuevo\n",
        "    jugar = input(\"\\n¿Quieres jugar de nuevo? (s/n): \")\n",
        "\n",
        "print(\"👋 ¡Gracias por jugar!\")"
      ]
    }
  ],
  "metadata": {
    "colab": {
      "include_colab_link": true,
      "provenance": []
    },
    "kernelspec": {
      "display_name": "Python 3",
      "language": "python",
      "name": "python3"
    },
    "language_info": {
      "name": "python",
      "version": "3.11"
    }
  },
  "nbformat": 4,
  "nbformat_minor": 0
}
