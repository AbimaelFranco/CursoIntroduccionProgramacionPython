{
  "cells": [
    {
      "cell_type": "markdown",
      "id": "b72001a5",
      "metadata": {
        "colab_type": "text",
        "id": "view-in-github"
      },
      "source": [
        "<a href=\"https://colab.research.google.com/github/AbimaelFranco/CursoIntroduccionProgramacionPython/blob/main/docs/IPP_Sesion5.ipynb\" target=\"_parent\"><img src=\"https://colab.research.google.com/assets/colab-badge.svg\" alt=\"Open In Colab\"/></a>"
      ]
    },
    {
      "cell_type": "markdown",
      "id": "c9ab12eb",
      "metadata": {
        "id": "c9ab12eb"
      },
      "source": [
        "# Paquetes y Librerías en Python\n",
        "\n",
        "## Contenido de la Sesión\n",
        "\n",
        "* Scripts y Módulos\n",
        "* Librerias\n",
        "* Uso de Pip\n",
        "* Librerias estándar (`math, os, random, datetime`)\n",
        "* Librerias externas\n",
        "* Potencial de las librerias"
      ]
    },
    {
      "cell_type": "markdown",
      "id": "8a9f1d30",
      "metadata": {
        "id": "8a9f1d30"
      },
      "source": [
        "## Scripts y Módulos\n",
        "\n",
        "Un script es simplemente un archivo de Python (.py) que contiene instrucciones para ejecutar una tarea.\n",
        "\n",
        "Ejemplo: un script que imprime \"Hola Mundo\".\n",
        "\n",
        "Un módulo es también un archivo .py, pero su objetivo no es ejecutarse directamente, sino almacenar funciones, clases o variables que otros scripts pueden reutilizar.\n",
        "\n",
        "Diferencia clave:\n",
        "\n",
        "Script → se ejecuta.\n",
        "\n",
        "Módulo → se importa.\n",
        "\n",
        "Para importar un módulo a un script se emplea la palabra reservada `import`"
      ]
    },
    {
      "cell_type": "markdown",
      "id": "d050cfd1",
      "metadata": {
        "id": "d050cfd1"
      },
      "source": [
        "## Librerías\n",
        "\n",
        "Una librería es un conjunto de módulos organizados que ofrecen soluciones ya listas.\n",
        "\n",
        "Permiten reutilizar código confiable en lugar de programar todo desde cero.\n",
        "\n",
        "Ejemplo conceptual: una librería es como una caja de herramientas, donde cada módulo es una herramienta lista para usar."
      ]
    },
    {
      "cell_type": "markdown",
      "id": "b54c4060",
      "metadata": {
        "id": "b54c4060"
      },
      "source": [
        "## Uso de Pip\n",
        "\n",
        "pip es el gestor de paquetes oficial de Python.\n",
        "\n",
        "Permite instalar, actualizar o eliminar librerías externas desde internet.\n",
        "\n",
        "Ejemplo conceptual: imagina que tu computadora es un taller, y con pip puedes ir a la tienda y traer nuevas herramientas.\n",
        "\n",
        "Comandos básicos:\n",
        "\n",
        "Para instalar una libreria: `pip install nombre_libreria`\n",
        "\n",
        "Para desinstalar una libreria: `pip uninstall nombre_libreria`\n",
        "\n",
        "Para listar las librerias instaladas: `pip list`"
      ]
    },
    {
      "cell_type": "markdown",
      "id": "bf33d731",
      "metadata": {
        "id": "bf33d731"
      },
      "source": [
        "## Librerías estándar de Python\n",
        "\n",
        "Python ya incluye una colección de librerías listas para usar, conocida como la librería estándar. Algunos ejemplos:\n",
        "\n",
        "* **math:** Funciones matemáticas (raíces, trigonometría, constantes).\n",
        "\n",
        "* **os:** Interactuar con el sistema operativo (rutas, archivos, carpetas).\n",
        "\n",
        "* **random:** Generar valores aleatorios (muy útil en juegos o simulaciones).\n",
        "\n",
        "* **datetime:** Trabajar con fechas y horas (calendarios, intervalos de tiempo)."
      ]
    },
    {
      "cell_type": "code",
      "execution_count": null,
      "id": "84984a98",
      "metadata": {
        "vscode": {
          "languageId": "plaintext"
        }
      },
      "outputs": [],
      "source": [
        "import math\n",
        "import os\n",
        "import random\n",
        "import datetime\n",
        "\n",
        "# Uso de math → calcular raíz cuadrada\n",
        "numero = 25\n",
        "raiz = math.sqrt(numero)\n",
        "print(f\"La raíz cuadrada de {numero} es {raiz}\")\n",
        "\n",
        "# Uso de os → mostrar el directorio actual\n",
        "directorio_actual = os.getcwd()\n",
        "print(f\"Directorio actual: {directorio_actual}\")\n",
        "\n",
        "# Uso de random → elegir un número aleatorio entre 1 y 10\n",
        "numero_aleatorio = random.randint(1, 10)\n",
        "print(f\"Número aleatorio generado: {numero_aleatorio}\")\n",
        "\n",
        "# Uso de datetime → obtener la fecha y hora actual\n",
        "fecha_actual = datetime.datetime.now()\n",
        "print(f\"Fecha y hora actual: {fecha_actual}\")"
      ]
    },
    {
      "cell_type": "code",
      "execution_count": null,
      "id": "18ec8bb1",
      "metadata": {
        "vscode": {
          "languageId": "plaintext"
        }
      },
      "outputs": [],
      "source": [
        "import random\n",
        "\n",
        "def lanzar_dados():\n",
        "    \"\"\"Lanza dos dados y devuelve sus valores como tupla.\"\"\"\n",
        "    dado1 = random.randint(1, 6)\n",
        "    dado2 = random.randint(1, 6)\n",
        "    return dado1, dado2\n",
        "\n",
        "def jugar():\n",
        "    \"\"\"Ejecuta el ciclo principal del juego de dados.\"\"\"\n",
        "    puntuacion = 0\n",
        "    print(\"🎲 Bienvenido al juego de dados 🎲\")\n",
        "\n",
        "    while True:\n",
        "        opcion = input(\"\\n¿Quieres lanzar los dados? (jugar/salir): \").lower()\n",
        "\n",
        "        if opcion == \"salir\":\n",
        "            print(f\"\\nGracias por jugar. Tu puntuación final es: {puntuacion}\")\n",
        "            break\n",
        "        elif opcion == \"jugar\":\n",
        "            dado1, dado2 = lanzar_dados()\n",
        "            suma = dado1 + dado2\n",
        "            puntuacion += suma\n",
        "\n",
        "            print(f\"Lanzaste: {dado1} y {dado2} → total: {suma}\")\n",
        "            print(f\"Puntuación acumulada: {puntuacion}\")\n",
        "        else:\n",
        "            print(\"⚠️ Opción no válida. Escribe 'jugar' o 'salir'.\")"
      ]
    },
    {
      "cell_type": "markdown",
      "id": "38e81adc",
      "metadata": {
        "id": "38e81adc"
      },
      "source": [
        "## Librerías Externas\n",
        "\n",
        "Además de las librerías estándar, la comunidad ha desarrollado miles de librerías que amplían el potencial de Python.\n",
        "\n",
        "numpy → Cálculo numérico avanzado.\n",
        "\n",
        "pandas → Análisis y manipulación de datos.\n",
        "\n",
        "matplotlib → Crear gráficos y visualizaciones.\n",
        "\n",
        "requests → Conectar con internet y consumir APIs."
      ]
    },
    {
      "cell_type": "code",
      "execution_count": null,
      "id": "d192a0dc",
      "metadata": {
        "vscode": {
          "languageId": "plaintext"
        }
      },
      "outputs": [],
      "source": [
        "import numpy as np\n",
        "import matplotlib.pyplot as plt\n",
        "from mpl_toolkits.mplot3d import Axes3D\n",
        "\n",
        "# Crear una malla de coordenadas\n",
        "x = np.linspace(-5, 5, 100)\n",
        "y = np.linspace(-5, 5, 100)\n",
        "X, Y = np.meshgrid(x, y)\n",
        "\n",
        "# Definir dos funciones\n",
        "Z1 = np.sin(np.sqrt(X**2 + Y**2))\n",
        "Z2 = np.cos(X) * np.sin(Y)\n",
        "\n",
        "# Crear figura y ejes\n",
        "fig, axs = plt.subplots(2, 2, figsize=(10, 8), subplot_kw={\"projection\": None})\n",
        "\n",
        "# --- Gráfico superior izquierdo (3D de Z1)\n",
        "ax1 = fig.add_subplot(2, 2, 1, projection=\"3d\")\n",
        "surf1 = ax1.plot_surface(X, Y, Z1, cmap=\"viridis\")\n",
        "ax1.set_title(\"Superficie 3D - Función Z1\")\n",
        "fig.colorbar(surf1, ax=ax1, shrink=0.5, aspect=8)\n",
        "\n",
        "# --- Gráfico superior derecho (3D de Z2)\n",
        "ax2 = fig.add_subplot(2, 2, 2, projection=\"3d\")\n",
        "surf2 = ax2.plot_surface(X, Y, Z2, cmap=\"plasma\")\n",
        "ax2.set_title(\"Superficie 3D - Función Z2\")\n",
        "fig.colorbar(surf2, ax=ax2, shrink=0.5, aspect=8)\n",
        "\n",
        "# --- Gráfico inferior izquierdo (curvas de nivel de Z1)\n",
        "ax3 = fig.add_subplot(2, 2, 3)\n",
        "contour1 = ax3.contourf(X, Y, Z1, cmap=\"viridis\")\n",
        "ax3.set_title(\"Curvas de nivel - Z1\")\n",
        "fig.colorbar(contour1, ax=ax3)\n",
        "\n",
        "# --- Gráfico inferior derecho (curvas de nivel de Z2)\n",
        "ax4 = fig.add_subplot(2, 2, 4)\n",
        "contour2 = ax4.contourf(X, Y, Z2, cmap=\"plasma\")\n",
        "ax4.set_title(\"Curvas de nivel - Z2\")\n",
        "fig.colorbar(contour2, ax=ax4)\n",
        "\n",
        "# Ajustar espaciado\n",
        "plt.tight_layout()\n",
        "plt.show()\n"
      ]
    },
    {
      "cell_type": "markdown",
      "id": "023ef8db",
      "metadata": {
        "id": "023ef8db"
      },
      "source": [
        "## Potencial de las librerías\n",
        "\n",
        "El verdadero poder de Python está en sus librerías.\n",
        "\n",
        "Te permiten pasar de un lenguaje \"simple\" a una plataforma poderosa para ciencia de datos, inteligencia artificial, desarrollo web, automatización, etc.\n",
        "\n",
        "Ejemplo:\n",
        "\n",
        "Con math puedes calcular una raíz cuadrada.\n",
        "\n",
        "Con numpy puedes calcular millones de raíces cuadradas en segundos sobre un conjunto enorme de datos."
      ]
    }
  ],
  "metadata": {
    "colab": {
      "include_colab_link": true,
      "provenance": []
    },
    "kernelspec": {
      "display_name": "Python 3",
      "name": "python3"
    },
    "language_info": {
      "name": "python"
    }
  },
  "nbformat": 4,
  "nbformat_minor": 5
}
