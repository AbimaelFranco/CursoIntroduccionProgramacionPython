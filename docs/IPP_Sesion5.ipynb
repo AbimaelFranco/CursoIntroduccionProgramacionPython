{
 "cells": [
  {
   "cell_type": "markdown",
   "id": "c9ab12eb",
   "metadata": {},
   "source": [
    "# Paquetes y Librerías en Python\n",
    "\n",
    "## Contenido de la Sesión\n",
    "\n",
    "* Scripts y Módulos\n",
    "* Librerias\n",
    "* Uso de Pip\n",
    "* Librerias estándar (`math, os, random, datetime`)\n",
    "* Librerias externas\n",
    "* Potencial de las librerias"
   ]
  },
  {
   "cell_type": "markdown",
   "id": "8a9f1d30",
   "metadata": {},
   "source": [
    "## Scripts y Módulos\n",
    "\n",
    "Un script es simplemente un archivo de Python (.py) que contiene instrucciones para ejecutar una tarea.\n",
    "\n",
    "Ejemplo: un script que imprime \"Hola Mundo\".\n",
    "\n",
    "Un módulo es también un archivo .py, pero su objetivo no es ejecutarse directamente, sino almacenar funciones, clases o variables que otros scripts pueden reutilizar.\n",
    "\n",
    "Diferencia clave:\n",
    "\n",
    "Script → se ejecuta.\n",
    "\n",
    "Módulo → se importa."
   ]
  },
  {
   "cell_type": "markdown",
   "id": "d050cfd1",
   "metadata": {},
   "source": [
    "## Librerías\n",
    "\n",
    "Una librería es un conjunto de módulos organizados que ofrecen soluciones ya listas.\n",
    "\n",
    "Permiten reutilizar código confiable en lugar de programar todo desde cero.\n",
    "\n",
    "Ejemplo conceptual: una librería es como una caja de herramientas, donde cada módulo es una herramienta lista para usar."
   ]
  },
  {
   "cell_type": "markdown",
   "id": "b54c4060",
   "metadata": {},
   "source": [
    "## Uso de Pip\n",
    "\n",
    "pip es el gestor de paquetes oficial de Python.\n",
    "\n",
    "Permite instalar, actualizar o eliminar librerías externas desde internet.\n",
    "\n",
    "Ejemplo conceptual: imagina que tu computadora es un taller, y con pip puedes ir a la tienda y traer nuevas herramientas.\n",
    "\n",
    "Comandos básicos:\n",
    "\n",
    "Para instalar una libreria: `pip install nombre_libreria`\n",
    "\n",
    "Para desinstalar una libreria: `pip uninstall nombre_libreria`\n",
    "\n",
    "Para listar las librerias instaladas: `pip list`"
   ]
  },
  {
   "cell_type": "markdown",
   "id": "bf33d731",
   "metadata": {},
   "source": [
    "## Librerías estándar de Python\n",
    "\n",
    "Python ya incluye una colección de librerías listas para usar, conocida como la librería estándar. Algunos ejemplos:\n",
    "\n",
    "* **math:** Funciones matemáticas (raíces, trigonometría, constantes).\n",
    "\n",
    "* **os:** Interactuar con el sistema operativo (rutas, archivos, carpetas).\n",
    "\n",
    "* **random:** Generar valores aleatorios (muy útil en juegos o simulaciones).\n",
    "\n",
    "* **datetime:** Trabajar con fechas y horas (calendarios, intervalos de tiempo)."
   ]
  },
  {
   "cell_type": "markdown",
   "id": "38e81adc",
   "metadata": {},
   "source": [
    "## Librerías Externas\n",
    "\n",
    "Además de las librerías estándar, la comunidad ha desarrollado miles de librerías que amplían el potencial de Python.\n",
    "\n",
    "numpy → Cálculo numérico avanzado.\n",
    "\n",
    "pandas → Análisis y manipulación de datos.\n",
    "\n",
    "matplotlib → Crear gráficos y visualizaciones.\n",
    "\n",
    "requests → Conectar con internet y consumir APIs."
   ]
  },
  {
   "cell_type": "markdown",
   "id": "023ef8db",
   "metadata": {},
   "source": [
    "## Potencial de las librerías\n",
    "\n",
    "El verdadero poder de Python está en sus librerías.\n",
    "\n",
    "Te permiten pasar de un lenguaje \"simple\" a una plataforma poderosa para ciencia de datos, inteligencia artificial, desarrollo web, automatización, etc.\n",
    "\n",
    "Ejemplo:\n",
    "\n",
    "Con math puedes calcular una raíz cuadrada.\n",
    "\n",
    "Con numpy puedes calcular millones de raíces cuadradas en segundos sobre un conjunto enorme de datos."
   ]
  },
  {
   "cell_type": "markdown",
   "id": "315418e3",
   "metadata": {},
   "source": []
  }
 ],
 "metadata": {
  "language_info": {
   "name": "python"
  }
 },
 "nbformat": 4,
 "nbformat_minor": 5
}
