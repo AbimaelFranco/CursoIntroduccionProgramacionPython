{
  "nbformat": 4,
  "nbformat_minor": 0,
  "metadata": {
    "colab": {
      "provenance": [],
      "authorship_tag": "ABX9TyNCVtkERPBAfSbV0GBV4roe",
      "include_colab_link": true
    },
    "kernelspec": {
      "name": "python3",
      "display_name": "Python 3"
    },
    "language_info": {
      "name": "python"
    }
  },
  "cells": [
    {
      "cell_type": "markdown",
      "metadata": {
        "id": "view-in-github",
        "colab_type": "text"
      },
      "source": [
        "<a href=\"https://colab.research.google.com/github/AbimaelFranco/CursoIntroduccionProgramacionPython/blob/main/Sesi%C3%B3n_4.ipynb\" target=\"_parent\"><img src=\"https://colab.research.google.com/assets/colab-badge.svg\" alt=\"Open In Colab\"/></a>"
      ]
    },
    {
      "cell_type": "markdown",
      "source": [
        "# Introducción a la Programación en Python - Sesión 4\n",
        "\n",
        "## Contenido de la Sesión\n",
        "\n",
        "* Funciones (continuación: argumentos y return).\n",
        "\n",
        "* Manejo de archivos (abrir, leer, escribir, with).\n",
        "\n",
        "* Manejo de errores (`try, except, finally`)."
      ],
      "metadata": {
        "id": "WBeJZBNRcW9H"
      }
    },
    {
      "cell_type": "markdown",
      "source": [
        "## Funciones (Continuación)\n",
        "\n",
        "Un bloque de código con un nombre, que se puede llamar cuando lo necesitemos. Sirve para organizar y reutilizar instrucciones."
      ],
      "metadata": {
        "id": "HVUw925qlNzK"
      }
    },
    {
      "cell_type": "code",
      "source": [
        "def nombre_funcion():\n",
        "    # bloque de código\n",
        "    print(\"Hola desde mi primera función\")"
      ],
      "metadata": {
        "id": "EF_sRNw-lOMg"
      },
      "execution_count": 1,
      "outputs": []
    },
    {
      "cell_type": "code",
      "source": [
        "# Llamar a la función\n",
        "nombre_funcion()"
      ],
      "metadata": {
        "colab": {
          "base_uri": "https://localhost:8080/"
        },
        "id": "NibvYuxgllkC",
        "outputId": "efc7e353-0ff1-48c1-90cf-fa15de17d029"
      },
      "execution_count": 2,
      "outputs": [
        {
          "output_type": "stream",
          "name": "stdout",
          "text": [
            "Hola desde mi primera función\n"
          ]
        }
      ]
    },
    {
      "cell_type": "markdown",
      "source": [
        "### Funciones con argumentos\n",
        "\n",
        "Permiten recibir datos para trabajar dentro de la función."
      ],
      "metadata": {
        "id": "GPc2R8v8l4c6"
      }
    },
    {
      "cell_type": "code",
      "source": [
        "def saludar(nombre_usuario):\n",
        "    print(\"Hola\", nombre_usuario)\n",
        "\n",
        "nombre = input(\"Dime tu nombre: \")\n",
        "\n",
        "saludar(nombre)"
      ],
      "metadata": {
        "colab": {
          "base_uri": "https://localhost:8080/"
        },
        "id": "DEnMP_cdloiZ",
        "outputId": "74c4e89a-1a19-44e1-fe97-04b5c15ce5aa"
      },
      "execution_count": 3,
      "outputs": [
        {
          "output_type": "stream",
          "name": "stdout",
          "text": [
            "Dime tu nombre: Alexander\n",
            "Hola Alexander\n"
          ]
        }
      ]
    },
    {
      "cell_type": "markdown",
      "source": [
        "#Funciones con retorno\n",
        "\n",
        "Permiten devolver un valor para usarlo en otra parte del programa."
      ],
      "metadata": {
        "id": "2ksZY25unBU6"
      }
    },
    {
      "cell_type": "code",
      "source": [
        "def operacion(a, b, op):\n",
        "  if op == 1:\n",
        "    res = a + b\n",
        "  elif op == 2:\n",
        "    res = a - b\n",
        "  elif op == 3:\n",
        "    res = a * b\n",
        "  elif op == 4:\n",
        "    res = a / b\n",
        "  else:\n",
        "    res = False\n",
        "\n",
        "  return res\n",
        "\n",
        "resultado = operacion(5, 8, 5)\n",
        "print(resultado)  # 8"
      ],
      "metadata": {
        "colab": {
          "base_uri": "https://localhost:8080/"
        },
        "id": "4RMMokzDmop2",
        "outputId": "a8b9c86f-5a70-4a31-d225-816fb708ad32"
      },
      "execution_count": 12,
      "outputs": [
        {
          "output_type": "stream",
          "name": "stdout",
          "text": [
            "False\n"
          ]
        }
      ]
    },
    {
      "cell_type": "code",
      "source": [
        "#Función con argumento y retorno\n",
        "\"\"\"\n",
        "La siguiente función recibe una cadena de texto (nombre) y verifica que no\n",
        "contenga números o caracteres especiales.\n",
        "\"\"\"\n",
        "def es_nombre_valido(nombre):\n",
        "    caracteres_invalidos = \"0123456789!@#$%^&*()_+-={}[]|:;\\\"'<>,.?/~`\"\n",
        "\n",
        "    if len(nombre) == 0:\n",
        "        return False\n",
        "\n",
        "    for caracter in nombre:\n",
        "        if caracter in caracteres_invalidos:\n",
        "            return False\n",
        "\n",
        "    return True\n",
        "\n",
        "# Bucle principal\n",
        "def main():\n",
        "  while True:\n",
        "      nombre = input(\"Ingrese un nombre: \")\n",
        "      if es_nombre_valido(nombre):\n",
        "          print(\"Registro exitoso\")\n",
        "          break\n",
        "      else:\n",
        "          print(\"Nombre inválido, intente de nuevo.\")\n",
        "\n",
        "main()"
      ],
      "metadata": {
        "colab": {
          "base_uri": "https://localhost:8080/"
        },
        "id": "XRXgmPRonTcX",
        "outputId": "c60f8a95-72b5-4587-e738-cac0e16e656e"
      },
      "execution_count": 14,
      "outputs": [
        {
          "output_type": "stream",
          "name": "stdout",
          "text": [
            "Ingrese un nombre: Alex1\n",
            "Nombre inválido, intente de nuevo.\n",
            "Ingrese un nombre: @lex\n",
            "Nombre inválido, intente de nuevo.\n",
            "Ingrese un nombre: Alex\n",
            "Registro exitoso\n"
          ]
        }
      ]
    },
    {
      "cell_type": "code",
      "source": [
        "#Función validación de correo\n",
        "\"\"\"\n",
        "La siguiente función recibe una cadena de texto (correo) y verifica que contenga\n",
        "el símbolo @ y un punto '.'\n",
        "\"\"\"\n",
        "def correo_valido(correo):\n",
        "    arroba = False\n",
        "    punto = False\n",
        "\n",
        "    if len(correo) == 0:\n",
        "        return False\n",
        "\n",
        "    for caracter in correo:\n",
        "        if caracter == \"@\":\n",
        "            arroba = True\n",
        "        elif caracter == \".\":\n",
        "            punto = True\n",
        "\n",
        "    if arroba == False or punto == False:\n",
        "        return False\n",
        "\n",
        "    return True\n",
        "\n",
        "# Bucle principal\n",
        "while True:\n",
        "    correo = input(\"Ingrese un correo: \")\n",
        "    if correo_valido(correo):\n",
        "        print(\"Registro exitoso\")\n",
        "        break\n",
        "    else:\n",
        "        print(\"Correo invalido\")"
      ],
      "metadata": {
        "colab": {
          "base_uri": "https://localhost:8080/"
        },
        "id": "x5FI2KCNpV-Q",
        "outputId": "fa9b3ca1-3349-497c-c78d-10982400275a"
      },
      "execution_count": 15,
      "outputs": [
        {
          "output_type": "stream",
          "name": "stdout",
          "text": [
            "Ingrese un correo: correo@gmail\n",
            "Correo invalido\n",
            "Ingrese un correo: correo.com\n",
            "Correo invalido\n",
            "Ingrese un correo: correo@gmail.com\n",
            "Registro exitoso\n"
          ]
        }
      ]
    },
    {
      "cell_type": "markdown",
      "source": [
        "#🏆 Desafío de Programación\n",
        "\n",
        "Utilizando funciones, elabora un script tipo formulario de registro. Se le debera mostrar al usuario un menú para seleccionar entre:\n",
        "\n",
        "* Registrar nuevo usuario\n",
        "* Ver ultimo usuario registrado\n",
        "\n",
        "Si se decido registrar un nuevo usuario se mostrara el formulario que solicitara los campos de:\n",
        "\n",
        "* Nombre\n",
        "* Nombre de usuario\n",
        "* Edad\n",
        "* Correo\n",
        "* Contraseña\n",
        "\n",
        "Se deberan de realizar las siguientes validaciones:\n",
        "\n",
        "* El nombre no debe contener caracteres especiales o números.\n",
        "* El nombre de usuario debera contener al menos un número, pero este no puede ser el primer caracter.\n",
        "* La edad deberá ser válida (mayor que cero y menor a cien), además de validar que sea mayor de edad.\n",
        "* El correo debe de ser válido (contener @ y .)\n",
        "* La contraseña debe de ser segura (al menos 8 caracteres, alfanuméricos y un caracter especial)\n",
        "* No se puede dejar ningun campo en blanco\n",
        "\n",
        "Si se selecciona la opción \"ver usuario\" se mostraran las claves y valores del usuario anteriormente registrado, a excepción de su contraseña."
      ],
      "metadata": {
        "id": "LCNWGzGar1HL"
      }
    },
    {
      "cell_type": "markdown",
      "source": [
        "## Manejo de archivos\n",
        "\n",
        "* Los archivos nos permiten almancer información de manera permanente en el sistema.\n",
        "\n",
        "* Almacena los datos de manera no volatil.\n",
        "\n",
        "* Es como una libreta externa donde el programa puede guardar información y luego volver a consultarla.\n",
        "\n",
        "* La información no desaparece cuando el programa termina.\n",
        "\n",
        "## Modos de apertura más comunes\n",
        "\n",
        "* \"r\" → leer (read). Error si el archivo no existe.\n",
        "\n",
        "* \"w\" → escribir (write). Si el archivo existe, lo sobrescribe.\n",
        "\n",
        "* \"a\" → agregar (append). Añade contenido al final sin borrar lo anterior.\n",
        "\n",
        "* \"r+\" → leer y escribir.\n",
        "\n",
        "## Leer archivos\n",
        "\n",
        "Se puede leer todo el contenido de una sola vez o línea por línea.\n",
        "\n",
        "## Escribir archivos\n",
        "\n",
        "Se puede sobrescribir el archivo o ir agregando contenido."
      ],
      "metadata": {
        "id": "t3Zi2TB2sjzz"
      }
    },
    {
      "cell_type": "code",
      "source": [
        "!ls"
      ],
      "metadata": {
        "colab": {
          "base_uri": "https://localhost:8080/"
        },
        "id": "Hz06nrS6rojy",
        "outputId": "a54fa5ce-f702-4579-e455-e33f0f49e57b"
      },
      "execution_count": 16,
      "outputs": [
        {
          "output_type": "stream",
          "name": "stdout",
          "text": [
            "sample_data\n"
          ]
        }
      ]
    },
    {
      "cell_type": "code",
      "source": [
        "# --- Crear y escribir en un archivo ---\n",
        "with open(\"ejemplo.txt\", \"w\") as archivo:  # \"w\" = write (sobrescribe si existe)\n",
        "    archivo.write(\"Hola, este es un archivo de ejemplo.\\n\")\n",
        "    archivo.write(\"Segunda línea.\\n\")\n",
        "\n",
        "print(\"Archivo creado y escrito.\")"
      ],
      "metadata": {
        "colab": {
          "base_uri": "https://localhost:8080/"
        },
        "id": "jJxk4CBst4--",
        "outputId": "af158451-3b29-4931-a7b0-2306526553f0"
      },
      "execution_count": 17,
      "outputs": [
        {
          "output_type": "stream",
          "name": "stdout",
          "text": [
            "Archivo creado y escrito.\n"
          ]
        }
      ]
    },
    {
      "cell_type": "code",
      "source": [
        "!cat ejemplo.txt"
      ],
      "metadata": {
        "colab": {
          "base_uri": "https://localhost:8080/"
        },
        "id": "JC7yN9LGuuSY",
        "outputId": "a316e4e8-d1fa-400d-ebaa-27b3362936c9"
      },
      "execution_count": 19,
      "outputs": [
        {
          "output_type": "stream",
          "name": "stdout",
          "text": [
            "Hola, este es un archivo de ejemplo.\n",
            "Segunda línea.\n"
          ]
        }
      ]
    },
    {
      "cell_type": "code",
      "source": [
        "# --- Leer el archivo completo ---\n",
        "with open(\"ejemplo.txt\", \"r\") as f:  # \"r\" = read\n",
        "    contenido = f.read()\n",
        "    print(\"\\nContenido del archivo:\")\n",
        "    print(contenido)"
      ],
      "metadata": {
        "colab": {
          "base_uri": "https://localhost:8080/"
        },
        "id": "Evt56Rutu7_x",
        "outputId": "15703e9f-31db-479b-a421-0da611d1944f"
      },
      "execution_count": 20,
      "outputs": [
        {
          "output_type": "stream",
          "name": "stdout",
          "text": [
            "\n",
            "Contenido del archivo:\n",
            "Hola, este es un archivo de ejemplo.\n",
            "Segunda línea.\n",
            "\n"
          ]
        }
      ]
    },
    {
      "cell_type": "code",
      "source": [
        "# --- sobreescribir en un archivo ---\n",
        "with open(\"ejemplo.txt\", \"w\") as archivo:\n",
        "    archivo.write(\"Esta es una modificación completa del archivo.\\n\")\n",
        "    archivo.write(\"Otra línea.\\n\")\n",
        "    archivo.write(\"Otra línea.\\n\")\n",
        "    archivo.write(\"Fin del archivo.\\n\")\n",
        "\n",
        "print(\"Archivo modificado.\")"
      ],
      "metadata": {
        "colab": {
          "base_uri": "https://localhost:8080/"
        },
        "id": "kvqZbJTKvQYW",
        "outputId": "a851d1a7-30b9-4f97-95f1-df65a01429f1"
      },
      "execution_count": 21,
      "outputs": [
        {
          "output_type": "stream",
          "name": "stdout",
          "text": [
            "Archivo modificado.\n"
          ]
        }
      ]
    },
    {
      "cell_type": "code",
      "source": [
        "# --- Leer línea por línea ---\n",
        "with open(\"ejemplo.txt\", \"r\") as f:\n",
        "    print(\"\\nLeyendo línea por línea:\")\n",
        "    for linea in f:\n",
        "        print(linea.strip())  # .strip() quita saltos de línea"
      ],
      "metadata": {
        "colab": {
          "base_uri": "https://localhost:8080/"
        },
        "id": "Bsi_22SRvX-O",
        "outputId": "1b557253-e009-4d6a-e11e-a579686ea0c0"
      },
      "execution_count": 22,
      "outputs": [
        {
          "output_type": "stream",
          "name": "stdout",
          "text": [
            "\n",
            "Leyendo línea por línea:\n",
            "Esta es una modificación completa del archivo.\n",
            "Otra línea.\n",
            "Otra línea.\n",
            "Fin del archivo.\n"
          ]
        }
      ]
    },
    {
      "cell_type": "code",
      "source": [
        "# --- Editar (agregar contenido al final) ---\n",
        "with open(\"ejemplo.txt\", \"a\") as f:  # \"a\" = append\n",
        "    f.write(\"Nueva línea agregada.\\n\")\n",
        "\n",
        "print(\"\\nSe agregó una nueva línea al archivo.\")"
      ],
      "metadata": {
        "colab": {
          "base_uri": "https://localhost:8080/"
        },
        "id": "eNqqJkZUvn4v",
        "outputId": "91c48f20-1910-4107-f876-2cc222bf9a1d"
      },
      "execution_count": 23,
      "outputs": [
        {
          "output_type": "stream",
          "name": "stdout",
          "text": [
            "\n",
            "Se agregó una nueva línea al archivo.\n"
          ]
        }
      ]
    },
    {
      "cell_type": "code",
      "source": [
        "def sumar(a, b):\n",
        "  return a+b\n",
        "\n",
        "a = input(\"Ingrese un numero: \")\n",
        "b = bool(input(\"Ingrese un numero: \"))\n",
        "\n",
        "print(f\"La resta de {a} y {b} es: {sumar(a, b)}\")"
      ],
      "metadata": {
        "colab": {
          "base_uri": "https://localhost:8080/",
          "height": 332
        },
        "id": "UCp2t1YLwoPN",
        "outputId": "1f30bd76-3ea2-4ec8-dda3-2dd408073263"
      },
      "execution_count": 29,
      "outputs": [
        {
          "name": "stdout",
          "output_type": "stream",
          "text": [
            "Ingrese un numero: 3\n",
            "Ingrese un numero: 6\n"
          ]
        },
        {
          "output_type": "error",
          "ename": "TypeError",
          "evalue": "can only concatenate str (not \"bool\") to str",
          "traceback": [
            "\u001b[0;31m---------------------------------------------------------------------------\u001b[0m",
            "\u001b[0;31mTypeError\u001b[0m                                 Traceback (most recent call last)",
            "\u001b[0;32m/tmp/ipython-input-3006021446.py\u001b[0m in \u001b[0;36m<cell line: 0>\u001b[0;34m()\u001b[0m\n\u001b[1;32m      5\u001b[0m \u001b[0mb\u001b[0m \u001b[0;34m=\u001b[0m \u001b[0mbool\u001b[0m\u001b[0;34m(\u001b[0m\u001b[0minput\u001b[0m\u001b[0;34m(\u001b[0m\u001b[0;34m\"Ingrese un numero: \"\u001b[0m\u001b[0;34m)\u001b[0m\u001b[0;34m)\u001b[0m\u001b[0;34m\u001b[0m\u001b[0;34m\u001b[0m\u001b[0m\n\u001b[1;32m      6\u001b[0m \u001b[0;34m\u001b[0m\u001b[0m\n\u001b[0;32m----> 7\u001b[0;31m \u001b[0mprint\u001b[0m\u001b[0;34m(\u001b[0m\u001b[0;34mf\"La resta de {a} y {b} es: {sumar(a, b)}\"\u001b[0m\u001b[0;34m)\u001b[0m\u001b[0;34m\u001b[0m\u001b[0;34m\u001b[0m\u001b[0m\n\u001b[0m",
            "\u001b[0;32m/tmp/ipython-input-3006021446.py\u001b[0m in \u001b[0;36msumar\u001b[0;34m(a, b)\u001b[0m\n\u001b[1;32m      1\u001b[0m \u001b[0;32mdef\u001b[0m \u001b[0msumar\u001b[0m\u001b[0;34m(\u001b[0m\u001b[0ma\u001b[0m\u001b[0;34m,\u001b[0m \u001b[0mb\u001b[0m\u001b[0;34m)\u001b[0m\u001b[0;34m:\u001b[0m\u001b[0;34m\u001b[0m\u001b[0;34m\u001b[0m\u001b[0m\n\u001b[0;32m----> 2\u001b[0;31m   \u001b[0;32mreturn\u001b[0m \u001b[0ma\u001b[0m\u001b[0;34m+\u001b[0m\u001b[0mb\u001b[0m\u001b[0;34m\u001b[0m\u001b[0;34m\u001b[0m\u001b[0m\n\u001b[0m\u001b[1;32m      3\u001b[0m \u001b[0;34m\u001b[0m\u001b[0m\n\u001b[1;32m      4\u001b[0m \u001b[0ma\u001b[0m \u001b[0;34m=\u001b[0m \u001b[0minput\u001b[0m\u001b[0;34m(\u001b[0m\u001b[0;34m\"Ingrese un numero: \"\u001b[0m\u001b[0;34m)\u001b[0m\u001b[0;34m\u001b[0m\u001b[0;34m\u001b[0m\u001b[0m\n\u001b[1;32m      5\u001b[0m \u001b[0mb\u001b[0m \u001b[0;34m=\u001b[0m \u001b[0mbool\u001b[0m\u001b[0;34m(\u001b[0m\u001b[0minput\u001b[0m\u001b[0;34m(\u001b[0m\u001b[0;34m\"Ingrese un numero: \"\u001b[0m\u001b[0;34m)\u001b[0m\u001b[0;34m)\u001b[0m\u001b[0;34m\u001b[0m\u001b[0;34m\u001b[0m\u001b[0m\n",
            "\u001b[0;31mTypeError\u001b[0m: can only concatenate str (not \"bool\") to str"
          ]
        }
      ]
    },
    {
      "cell_type": "code",
      "source": [
        "# --- Leer línea por línea ---\n",
        "with open(\"ejemplo1.txt\", \"r\") as f:\n",
        "    print(\"\\nLeyendo línea por línea:\")\n",
        "    for linea in f:\n",
        "        print(linea.strip())  # .strip() quita saltos de línea"
      ],
      "metadata": {
        "colab": {
          "base_uri": "https://localhost:8080/",
          "height": 211
        },
        "id": "jBwztTodvzPR",
        "outputId": "21c9d112-b472-4a28-ccc9-95e0031f1107"
      },
      "execution_count": 28,
      "outputs": [
        {
          "output_type": "error",
          "ename": "FileNotFoundError",
          "evalue": "[Errno 2] No such file or directory: 'ejemplo1.txt'",
          "traceback": [
            "\u001b[0;31m---------------------------------------------------------------------------\u001b[0m",
            "\u001b[0;31mFileNotFoundError\u001b[0m                         Traceback (most recent call last)",
            "\u001b[0;32m/tmp/ipython-input-2480420753.py\u001b[0m in \u001b[0;36m<cell line: 0>\u001b[0;34m()\u001b[0m\n\u001b[1;32m      1\u001b[0m \u001b[0;31m# --- Leer línea por línea ---\u001b[0m\u001b[0;34m\u001b[0m\u001b[0;34m\u001b[0m\u001b[0m\n\u001b[0;32m----> 2\u001b[0;31m \u001b[0;32mwith\u001b[0m \u001b[0mopen\u001b[0m\u001b[0;34m(\u001b[0m\u001b[0;34m\"ejemplo1.txt\"\u001b[0m\u001b[0;34m,\u001b[0m \u001b[0;34m\"r\"\u001b[0m\u001b[0;34m)\u001b[0m \u001b[0;32mas\u001b[0m \u001b[0mf\u001b[0m\u001b[0;34m:\u001b[0m\u001b[0;34m\u001b[0m\u001b[0;34m\u001b[0m\u001b[0m\n\u001b[0m\u001b[1;32m      3\u001b[0m     \u001b[0mprint\u001b[0m\u001b[0;34m(\u001b[0m\u001b[0;34m\"\\nLeyendo línea por línea:\"\u001b[0m\u001b[0;34m)\u001b[0m\u001b[0;34m\u001b[0m\u001b[0;34m\u001b[0m\u001b[0m\n\u001b[1;32m      4\u001b[0m     \u001b[0;32mfor\u001b[0m \u001b[0mlinea\u001b[0m \u001b[0;32min\u001b[0m \u001b[0mf\u001b[0m\u001b[0;34m:\u001b[0m\u001b[0;34m\u001b[0m\u001b[0;34m\u001b[0m\u001b[0m\n\u001b[1;32m      5\u001b[0m         \u001b[0mprint\u001b[0m\u001b[0;34m(\u001b[0m\u001b[0mlinea\u001b[0m\u001b[0;34m.\u001b[0m\u001b[0mstrip\u001b[0m\u001b[0;34m(\u001b[0m\u001b[0;34m)\u001b[0m\u001b[0;34m)\u001b[0m  \u001b[0;31m# .strip() quita saltos de línea\u001b[0m\u001b[0;34m\u001b[0m\u001b[0;34m\u001b[0m\u001b[0m\n",
            "\u001b[0;31mFileNotFoundError\u001b[0m: [Errno 2] No such file or directory: 'ejemplo1.txt'"
          ]
        }
      ]
    },
    {
      "cell_type": "markdown",
      "source": [
        "## Manejo de Errores\n",
        "\n",
        "### ¿Por qué manejar errores?\n",
        "\n",
        "* Los programas se encuentran con problemas inesperados: archivos que no existen, divisiones entre cero, datos incorrectos…\n",
        "\n",
        "* Sin manejo de errores, el programa se detiene bruscamente.\n",
        "\n",
        "* Con manejo de errores, el programa puede responder de manera controlada.\n",
        "\n",
        "* Hace al programa más robusto y confiable.\n",
        "\n",
        "* El usuario no ve un “crash” feo, sino un mensaje o acción pensada.\n",
        "\n",
        "### Try - Except - Finally\n",
        "\n",
        "* **try:** aquí va el código que puede fallar.\n",
        "\n",
        "* **except:** aquí se indica qué hacer si ocurre un error.\n",
        "\n",
        "* **Finally:** Bloque que siempre se ejecuta, ocurra o no un error. Se usa para limpiar, cerrar archivos, liberar recursos."
      ],
      "metadata": {
        "id": "2NlBFYqVxdSv"
      }
    },
    {
      "cell_type": "code",
      "source": [
        "try:\n",
        "    # Intentamos abrir el archivo en modo lectura\n",
        "    with open(\"data.txt\", \"r\") as f:\n",
        "      contenido = f.read()\n",
        "      print(\"\\nContenido del archivo:\")\n",
        "      print(contenido)\n",
        "\n",
        "except Exception as e:\n",
        "    # Captura cualquier otro error inesperado\n",
        "    print(\"Ocurrió un error:\", e)"
      ],
      "metadata": {
        "colab": {
          "base_uri": "https://localhost:8080/"
        },
        "id": "TRshO1BIxPkt",
        "outputId": "94cc733c-7668-45c7-88b1-9f603efe04ba"
      },
      "execution_count": 30,
      "outputs": [
        {
          "output_type": "stream",
          "name": "stdout",
          "text": [
            "Ocurrió un error: [Errno 2] No such file or directory: 'data.txt'\n"
          ]
        }
      ]
    },
    {
      "cell_type": "code",
      "source": [
        "actual_year = 2025\n",
        "\n",
        "def calc_edad(age, future_year):\n",
        "  try:\n",
        "    future_age = int(future_year) - actual_year + int(age)\n",
        "    return future_age\n",
        "  except:\n",
        "    return \"Error\"\n",
        "\n",
        "while True:\n",
        "  edad = input(\"Ingrese su edad actual: \")\n",
        "  future_year = input(\"Ingrese su el año en el que desea calcular su edad: \")\n",
        "\n",
        "  edad_futura = calc_edad(edad, future_year)\n",
        "\n",
        "  if edad_futura == \"Error\":\n",
        "    print(\"Error al calcular la edad. Asegure de ingresar solo números\")\n",
        "    continue\n",
        "  else:\n",
        "    print(f\"En el año {future_year} tendra la edad de: {edad_futura}\")\n",
        "    break"
      ],
      "metadata": {
        "colab": {
          "base_uri": "https://localhost:8080/"
        },
        "id": "3PSswphPyTMA",
        "outputId": "8490a419-d7f2-45ae-ae73-c3b0057f4d37"
      },
      "execution_count": 31,
      "outputs": [
        {
          "output_type": "stream",
          "name": "stdout",
          "text": [
            "Ingrese su edad actual: veinticuatro\n",
            "Ingrese su el año en el que desea calcular su edad: 2026\n",
            "Error al calcular la edad. Asegure de ingresar solo números\n",
            "Ingrese su edad actual: 24\n",
            "Ingrese su el año en el que desea calcular su edad: dos mil veintiseis\n",
            "Error al calcular la edad. Asegure de ingresar solo números\n",
            "Ingrese su edad actual: 24\n",
            "Ingrese su el año en el que desea calcular su edad: 2026\n",
            "En el año 2026 tendra la edad de: 25\n"
          ]
        }
      ]
    },
    {
      "cell_type": "markdown",
      "source": [
        "#🏆 Desafío de Programación\n",
        "\n",
        "Partiendo del desafio anterior.\n",
        "\n",
        "* Añada una función para almacenar los datos de cada usuario en un archivo distinto llamados \"username_data.txt\" donde username tomara el valor de \"nombre de usuario\" que haya registrado.\n",
        "\n",
        "* Añada una función que permita mostrar los datos de usuario a partir de su archivo .txt (ocultando la contraseña por seguridad) buscando por username. Añada manejo de excepciones en caso el usuario buscado no exista se muestre un mensaje \"usuario no encontrado\"."
      ],
      "metadata": {
        "id": "vZmxvD5szxO3"
      }
    }
  ]
}