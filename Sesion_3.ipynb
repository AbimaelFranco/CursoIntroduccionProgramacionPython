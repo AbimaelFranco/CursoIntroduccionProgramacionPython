{
  "nbformat": 4,
  "nbformat_minor": 0,
  "metadata": {
    "colab": {
      "provenance": [],
      "authorship_tag": "ABX9TyM+bHM78Pkt5UNAV1ZqUy7H",
      "include_colab_link": true
    },
    "kernelspec": {
      "name": "python3",
      "display_name": "Python 3"
    },
    "language_info": {
      "name": "python"
    }
  },
  "cells": [
    {
      "cell_type": "markdown",
      "metadata": {
        "id": "view-in-github",
        "colab_type": "text"
      },
      "source": [
        "<a href=\"https://colab.research.google.com/github/AbimaelFranco/CursoIntroduccionProgramacionPython/blob/main/Sesion_3.ipynb\" target=\"_parent\"><img src=\"https://colab.research.google.com/assets/colab-badge.svg\" alt=\"Open In Colab\"/></a>"
      ]
    },
    {
      "cell_type": "markdown",
      "source": [
        "# Introducción a la Programación en Python - Sesión 3\n",
        "\n",
        "## Contenido de la Sesión\n",
        "\n",
        "- Estructuras de datos (`list`, `tuple`, `dict`)\n",
        "- Estructura de control `for`\n",
        "- Controladores de flujo\n",
        "- Funciones"
      ],
      "metadata": {
        "id": "siG_Bs54z_cq"
      }
    },
    {
      "cell_type": "markdown",
      "source": [
        "## Estructuras de datos\n",
        "\n",
        "Las estructuras de datos son formas de organizar y almacenar información para que podamos acceder a ella y modificarla eficientemente. En Python, algunas de las más usadas son:\n",
        "\n",
        "**Listas:** colecciones ordenadas y modificables.\n",
        "\n",
        "**Tuplas:** colecciones ordenadas e inmutables.\n",
        "\n",
        "**Diccionarios:** colecciones de pares clave-valor."
      ],
      "metadata": {
        "id": "nQfhx1o01X1-"
      }
    },
    {
      "cell_type": "markdown",
      "source": [
        "## Listas (`list`)\n",
        "\n",
        "Una lista es una colección ordenada de elementos que puede cambiar (mutable).\n",
        "\n",
        "* Se definen con corchetes [].\n",
        "\n",
        "* Pueden almacenar distintos tipos de datos.\n",
        "\n",
        "* Se pueden modificar, agregar o eliminar elementos.\n",
        "\n",
        "* Se accede a los elementos con índices, empezando en 0."
      ],
      "metadata": {
        "id": "5kCPlBc12IZ1"
      }
    },
    {
      "cell_type": "code",
      "execution_count": null,
      "metadata": {
        "colab": {
          "base_uri": "https://localhost:8080/"
        },
        "id": "YOEt_Xctz4RX",
        "outputId": "ead2ef11-9e84-43eb-9594-218da2f1b875"
      },
      "outputs": [
        {
          "output_type": "stream",
          "name": "stdout",
          "text": [
            "manzana\n",
            "['manzana', 'naranja', 'cereza']\n",
            "['manzana', 'naranja', 'cereza', 'uva']\n",
            "['manzana', 'cereza', 'uva']\n"
          ]
        }
      ],
      "source": [
        "# Crear una lista\n",
        "frutas = [\"manzana\", \"banana\", \"cereza\"]\n",
        "\n",
        "# Acceder por índice\n",
        "print(frutas[0])  # manzana\n",
        "\n",
        "# Modificar un elemento\n",
        "frutas[1] = \"naranja\"\n",
        "print(frutas)  # ['manzana', 'naranja', 'cereza']\n",
        "\n",
        "# Agregar elementos\n",
        "frutas.append(\"uva\")\n",
        "print(frutas)  # ['manzana', 'naranja', 'cereza', 'uva']\n",
        "\n",
        "# Eliminar elementos\n",
        "frutas.remove(\"naranja\")\n",
        "print(frutas)  # ['manzana', 'cereza', 'uva']"
      ]
    },
    {
      "cell_type": "markdown",
      "source": [
        "## Tuplas (`tuple`)\n",
        "\n",
        "Una tupla es una colección ordenada de elementos inmutable (no se puede cambiar después de creada).\n",
        "\n",
        "* Se definen con paréntesis ().\n",
        "\n",
        "* Son más rápidas que las listas.\n",
        "\n",
        "* Útiles para datos que no deben modificarse."
      ],
      "metadata": {
        "id": "WacWDIkn2nLW"
      }
    },
    {
      "cell_type": "code",
      "source": [
        "# Crear una tupla\n",
        "coordenadas = (10, 20)\n",
        "\n",
        "# Acceder por índice\n",
        "print(coordenadas[0])  # 10\n",
        "\n",
        "# No se puede modificar\n",
        "# coordenadas[0] = 15  # ❌ Error"
      ],
      "metadata": {
        "colab": {
          "base_uri": "https://localhost:8080/"
        },
        "id": "Pz-mE2sL2i9v",
        "outputId": "19abaec4-dc63-49a1-e47a-ae6d329fc50d"
      },
      "execution_count": null,
      "outputs": [
        {
          "output_type": "stream",
          "name": "stdout",
          "text": [
            "10\n"
          ]
        }
      ]
    },
    {
      "cell_type": "markdown",
      "source": [
        "## Diccionarios (`dict`)\n",
        "\n",
        "Un diccionario almacena datos en pares clave: valor.\n",
        "\n",
        "* Se definen con llaves {}.\n",
        "\n",
        "* Se accede a los valores usando la clave, no el índice.\n",
        "\n",
        "* Las claves deben ser únicas."
      ],
      "metadata": {
        "id": "pli1eoGi22NS"
      }
    },
    {
      "cell_type": "code",
      "source": [
        "# Crear un diccionario\n",
        "persona = {\n",
        "    \"nombre\": \"Ana\",\n",
        "    \"edad\": 25,\n",
        "    \"ciudad\": \"Madrid\"\n",
        "}\n",
        "\n",
        "# Acceder a un valor por clave\n",
        "print(persona[\"nombre\"])  # Ana\n",
        "\n",
        "# Modificar un valor\n",
        "persona[\"edad\"] = 26\n",
        "\n",
        "# Agregar una nueva clave\n",
        "persona[\"profesion\"] = \"Ingeniera\"\n",
        "\n",
        "# Eliminar una clave\n",
        "del persona[\"ciudad\"]\n",
        "\n",
        "print(persona)\n",
        "# {'nombre': 'Ana', 'edad': 26, 'profesion': 'Ingeniera'}"
      ],
      "metadata": {
        "colab": {
          "base_uri": "https://localhost:8080/"
        },
        "id": "O44W8zAv2zdM",
        "outputId": "dcbe37fa-3bf9-46d7-8c9e-831d2aa250f3"
      },
      "execution_count": null,
      "outputs": [
        {
          "output_type": "stream",
          "name": "stdout",
          "text": [
            "Ana\n",
            "{'nombre': 'Ana', 'edad': 26, 'profesion': 'Ingeniera'}\n"
          ]
        }
      ]
    },
    {
      "cell_type": "markdown",
      "source": [
        "## Estructura de Control `for`\n",
        "\n",
        "El ciclo for en Python es una estructura de control de flujo que permite iterar sobre cualquier objeto iterable.\n",
        "Un iterable es cualquier objeto que puede producir sus elementos uno a uno, como:\n",
        "\n",
        "* Listas, tuplas, diccionarios, cadenas de texto.\n",
        "\n",
        "* Rango de números con range().\n",
        "\n",
        "* Conjuntos (set).\n",
        "\n",
        "* Objetos más avanzados como generadores o iteradores personalizados.\n",
        "\n",
        "En pocas palabras:\n",
        "\n",
        "El for ejecuta un bloque de código repetidamente para cada elemento que un iterable le proporciona."
      ],
      "metadata": {
        "id": "wA45-wFg3Yw6"
      }
    },
    {
      "cell_type": "code",
      "source": [
        "# Sintaxis:\n",
        "\n",
        "# for variable in coleccion:\n",
        "    # instrucciones"
      ],
      "metadata": {
        "id": "SaQ0YpMi3CGT"
      },
      "execution_count": null,
      "outputs": []
    },
    {
      "cell_type": "code",
      "source": [
        "maximo = 5\n",
        "\n",
        "for i in range(maximo):\n",
        "  print(i)\n",
        "\n",
        "print(\"----------------\")\n",
        "\n",
        "i=0\n",
        "while i < maximo:\n",
        "  print(i)\n",
        "  i += 1"
      ],
      "metadata": {
        "colab": {
          "base_uri": "https://localhost:8080/"
        },
        "id": "rjD4vSy63_4r",
        "outputId": "4892d51e-8dfc-45f2-eb6e-b1c7b1d7eab4"
      },
      "execution_count": null,
      "outputs": [
        {
          "output_type": "stream",
          "name": "stdout",
          "text": [
            "0\n",
            "1\n",
            "2\n",
            "3\n",
            "4\n",
            "----------------\n",
            "0\n",
            "1\n",
            "2\n",
            "3\n",
            "4\n"
          ]
        }
      ]
    },
    {
      "cell_type": "code",
      "source": [
        "# Recorrer una lista\n",
        "frutas = [\"manzana\", \"banana\", \"cereza\"]\n",
        "for fruta in frutas:\n",
        "    print(fruta)\n",
        "\n",
        "print(\"-----------\")\n",
        "\n",
        "# Recorrer un diccionario\n",
        "persona = {\"nombre\": \"Ana\", \"edad\": 25}\n",
        "for clave in persona:\n",
        "    print(clave, \":\", persona[clave])"
      ],
      "metadata": {
        "colab": {
          "base_uri": "https://localhost:8080/"
        },
        "id": "ZSsXjs4-3x8U",
        "outputId": "e3acdb44-718c-4a91-dd08-800070e60711"
      },
      "execution_count": null,
      "outputs": [
        {
          "output_type": "stream",
          "name": "stdout",
          "text": [
            "manzana\n",
            "banana\n",
            "cereza\n",
            "-----------\n",
            "nombre : Ana\n",
            "edad : 25\n"
          ]
        }
      ]
    },
    {
      "cell_type": "markdown",
      "source": [
        "## Controladores de Flujo `break`, `continue`\n",
        "\n",
        "### `break`\n",
        "Sirve para detener el ciclo antes de que termine."
      ],
      "metadata": {
        "id": "XRsRgysz4ebQ"
      }
    },
    {
      "cell_type": "code",
      "source": [
        "for numero in range(10):\n",
        "    if numero == 5:\n",
        "        break\n",
        "    print(numero)\n",
        "# Salida: 0, 1, 2, 3, 4"
      ],
      "metadata": {
        "colab": {
          "base_uri": "https://localhost:8080/"
        },
        "id": "1Xmtg1En32Yv",
        "outputId": "eae4333a-42c2-45f0-f658-a387bdd978ab"
      },
      "execution_count": null,
      "outputs": [
        {
          "output_type": "stream",
          "name": "stdout",
          "text": [
            "0\n",
            "1\n",
            "2\n",
            "3\n",
            "4\n"
          ]
        }
      ]
    },
    {
      "cell_type": "markdown",
      "source": [
        "### `continue`\n",
        "\n",
        "Sirve para saltar a la siguiente iteración sin ejecutar el resto del código en esa vuelta."
      ],
      "metadata": {
        "id": "q7rR0f614rqv"
      }
    },
    {
      "cell_type": "code",
      "source": [
        "for numero in range(6):\n",
        "    if numero == 3:\n",
        "        continue\n",
        "    print(numero)\n",
        "# Salida: 0, 1, 2, 4, 5"
      ],
      "metadata": {
        "colab": {
          "base_uri": "https://localhost:8080/"
        },
        "id": "nQ-G8Y2c4p3y",
        "outputId": "7febcedd-37ec-460b-b3f4-4d81b9eeac18"
      },
      "execution_count": null,
      "outputs": [
        {
          "output_type": "stream",
          "name": "stdout",
          "text": [
            "0\n",
            "1\n",
            "2\n",
            "4\n",
            "5\n"
          ]
        }
      ]
    },
    {
      "cell_type": "code",
      "source": [
        "#Codigo que muestra todos los campos (clave y valor) a excepción de la contraseña\n",
        "usuario = {\n",
        "    \"username\": \"Luis199\",\n",
        "    \"password\": \"98aBcD12\",\n",
        "    \"status\": True,\n",
        "    \"name\": \"Luis\",\n",
        "    \"Lastname\": \"Perez\",\n",
        "    \"age\": 21,\n",
        "    \"country\": \"Guatemala\"\n",
        "}\n",
        "\n",
        "for key, value in usuario.items():\n",
        "    if key == \"password\":\n",
        "        continue\n",
        "    print(key, \":\", value)"
      ],
      "metadata": {
        "id": "q1i7-t8hGIsG",
        "outputId": "999d09e9-acc3-426d-d5f8-ff8ed3480187",
        "colab": {
          "base_uri": "https://localhost:8080/"
        }
      },
      "execution_count": null,
      "outputs": [
        {
          "output_type": "stream",
          "name": "stdout",
          "text": [
            "username : Luis199\n",
            "status : True\n",
            "name : Luis\n",
            "Lastname : Perez\n",
            "age : 21\n",
            "country : Guatemala\n"
          ]
        }
      ]
    },
    {
      "cell_type": "code",
      "source": [
        "#Codigo que solicita ingresar un valor para cada campo\n",
        "usuario = {\n",
        "    \"username\": \"\",\n",
        "    \"status\": False,\n",
        "    \"name\": \"\",\n",
        "    \"Lastname\": \"\",\n",
        "    \"age\": 0,\n",
        "    \"country\": \"\"\n",
        "}\n",
        "\n",
        "for key in usuario:\n",
        "  valor = input(f\"Ingrese el valor de {key}: \")\n",
        "  usuario[key] = valor\n",
        "\n",
        "print(usuario)"
      ],
      "metadata": {
        "id": "FIuW89C4lbqq"
      },
      "execution_count": null,
      "outputs": []
    },
    {
      "cell_type": "code",
      "source": [
        "#Codigo para verificacion de contraseña\n",
        "usuario[\"password\"] = \"asdf1234\"\n",
        "\n",
        "while True:\n",
        "  psw = input(\"Ingrese la contraseña: \")\n",
        "  if psw == usuario[\"password\"]:\n",
        "    print(usuario)\n",
        "    break\n",
        "  else:\n",
        "    print(\"Contraseña incorrecta\")"
      ],
      "metadata": {
        "id": "XcDAcFQyluV4"
      },
      "execution_count": null,
      "outputs": []
    },
    {
      "cell_type": "markdown",
      "source": [
        "## Funciones\n",
        "\n",
        "Un bloque de código con un nombre, que se puede llamar cuando lo necesitemos. Sirve para organizar y reutilizar instrucciones."
      ],
      "metadata": {
        "id": "PdSMkyvl6XfG"
      }
    },
    {
      "cell_type": "code",
      "source": [
        "def nombre_funcion():\n",
        "    # bloque de código\n",
        "    print(\"Hola desde mi primera función\")\n",
        "\n",
        "# Llamar a la función\n",
        "nombre_funcion()"
      ],
      "metadata": {
        "colab": {
          "base_uri": "https://localhost:8080/"
        },
        "id": "EyRrjs5P4wty",
        "outputId": "8915e20e-1dc3-44c9-a697-ef081423c626"
      },
      "execution_count": null,
      "outputs": [
        {
          "output_type": "stream",
          "name": "stdout",
          "text": [
            "Hola desde mi primera función\n"
          ]
        }
      ]
    },
    {
      "cell_type": "markdown",
      "source": [
        "### Funciones con argumentos\n",
        "\n",
        "Permiten recibir datos para trabajar dentro de la función."
      ],
      "metadata": {
        "id": "jHCUjNBg6pQf"
      }
    },
    {
      "cell_type": "code",
      "source": [
        "nombre = input(\"Dime tu nombre: \")\n",
        "\n",
        "def saludar(nombre):\n",
        "    print(\"Hola\", nombre)\n",
        "\n",
        "saludar(nombre)"
      ],
      "metadata": {
        "colab": {
          "base_uri": "https://localhost:8080/"
        },
        "id": "6YmOla2f6b-U",
        "outputId": "ebf4424e-81e4-4aff-c08d-e02cbdae8a92"
      },
      "execution_count": null,
      "outputs": [
        {
          "output_type": "stream",
          "name": "stdout",
          "text": [
            "Dime tu nombre: Alex\n",
            "Hola Alex\n"
          ]
        }
      ]
    },
    {
      "cell_type": "markdown",
      "source": [
        "### Funciones con retorno\n",
        "\n",
        "Permiten devolver un valor para usarlo en otra parte del programa."
      ],
      "metadata": {
        "id": "7E9sjrlh61lw"
      }
    },
    {
      "cell_type": "code",
      "source": [
        "def sumar(a, b):\n",
        "    return a + b\n",
        "\n",
        "resultado = sumar(5, 3)\n",
        "print(resultado)  # 8"
      ],
      "metadata": {
        "colab": {
          "base_uri": "https://localhost:8080/"
        },
        "id": "y9Y575jk64kj",
        "outputId": "7a0e6d9d-bb03-46f3-d483-e4da97abc1e3"
      },
      "execution_count": null,
      "outputs": [
        {
          "output_type": "stream",
          "name": "stdout",
          "text": [
            "8\n"
          ]
        }
      ]
    },
    {
      "cell_type": "code",
      "source": [
        "def es_nombre_valido(nombre):\n",
        "    caracteres_invalidos = \"0123456789!@#$%^&*()_+-={}[]|\\\\:;\\\"'<>,.?/~`\"\n",
        "\n",
        "    if len(nombre) == 0:\n",
        "        return False\n",
        "\n",
        "    for caracter in nombre:\n",
        "        if caracter in caracteres_invalidos:\n",
        "            return False\n",
        "\n",
        "    return True\n",
        "\n",
        "# Bucle principal\n",
        "while True:\n",
        "    nombre = input(\"Ingrese un nombre: \")\n",
        "    if es_nombre_valido(nombre):\n",
        "        print(\"Registro exitoso\")\n",
        "        break\n",
        "    else:\n",
        "        print(\"Nombre inválido, intente de nuevo.\")"
      ],
      "metadata": {
        "id": "yiVFwdodl5DF",
        "outputId": "306305dc-d753-478f-ed08-b0501a1b5c63",
        "colab": {
          "base_uri": "https://localhost:8080/"
        }
      },
      "execution_count": 3,
      "outputs": [
        {
          "output_type": "stream",
          "name": "stdout",
          "text": [
            "Ingrese un nombre: Alex01\n",
            "Nombre inválido, intente de nuevo.\n",
            "Ingrese un nombre: @Alex\n",
            "Nombre inválido, intente de nuevo.\n",
            "Ingrese un nombre: Alex\n",
            "Registro exitoso\n"
          ]
        }
      ]
    },
    {
      "cell_type": "code",
      "source": [
        "# 🎮 Juego de Preguntas con Diccionario y Funciones\n",
        "\n",
        "# -----------------------------\n",
        "# Diccionario de preguntas\n",
        "# -----------------------------\n",
        "PREGUNTAS = {\n",
        "    1: {\"pregunta\": \"¿Cuál es la capital de Francia?\", \"respuesta\": \"paris\"},\n",
        "    2: {\"pregunta\": \"¿Cuánto es 5 + 7?\", \"respuesta\": \"12\"},\n",
        "    3: {\"pregunta\": \"¿Cuál es el color resultante de mezclar rojo y azul?\", \"respuesta\": \"morado\"},\n",
        "    4: {\"pregunta\": \"¿Cómo se le llama a la estrella del sistema solar?\", \"respuesta\": \"sol\"}\n",
        "}\n",
        "\n",
        "\n",
        "# -----------------------------\n",
        "# Funciones principales\n",
        "# -----------------------------\n",
        "def mostrar_menu():\n",
        "# Muestra el menú principal del juego y devuelve la opción elegida.\n",
        "    print(\"\\n🎮 ¡Bienvenido al juego de preguntas!\")\n",
        "    print(\"1. Jugar\")\n",
        "    print(\"2. Ver puntuación anterior\")\n",
        "    print(\"3. Agregar nueva pregunta\")\n",
        "    print(\"4. Salir\")\n",
        "    return input(\"Elige una opción (1-4): \")\n",
        "\n",
        "\n",
        "def seleccionar_dificultad():\n",
        "#Permite elegir la dificultad y devuelve las vidas iniciales.\n",
        "    while True:\n",
        "        print(\"\\nSelecciona dificultad:\")\n",
        "        print(\"1. Fácil - 5 vidas\")\n",
        "        print(\"2. Difícil - 3 vidas\")\n",
        "        print(\"3. Experto - 1 vida\")\n",
        "        opcion = input(\"Selecciona la dificultad (1-3): \")\n",
        "\n",
        "        if opcion == \"1\":\n",
        "            return 5, opcion\n",
        "        elif opcion == \"2\":\n",
        "            return 3, opcion\n",
        "        elif opcion == \"3\":\n",
        "            return 1, opcion\n",
        "        else:\n",
        "            print(\"Selección incorrecta\")\n",
        "\n",
        "\n",
        "def hacer_pregunta(pregunta, respuesta_correcta, vidas, puntuacion, errores, dificultad, es_tercera):\n",
        "#Realiza una pregunta al jugador y actualiza puntuación, errores y vidas.\n",
        "    while True:\n",
        "        respuesta = input(pregunta + \" \").lower()\n",
        "        if respuesta == respuesta_correcta:\n",
        "            puntuacion += 25\n",
        "            print(f\"✅ Correcto! Puntuación actual: {puntuacion}\")\n",
        "\n",
        "            # Vida extra en la tercera pregunta si no es dificultad \"experto\"\n",
        "            if es_tercera and dificultad != \"3\":\n",
        "                vidas += 1\n",
        "                print(\"💚 Ganaste una vida extra!\")\n",
        "\n",
        "            return vidas, puntuacion, errores, False\n",
        "        else:\n",
        "            errores += 1\n",
        "            print(f\"❌ Incorrecto. Llevas {errores} fallos.\")\n",
        "\n",
        "            if errores >= vidas:\n",
        "                print(\"💀 Has perdido. Demasiados errores.\")\n",
        "                return vidas, puntuacion, errores, True\n",
        "\n",
        "\n",
        "def jugar_partida():\n",
        "#Ejecuta una partida completa del juego.\n",
        "    vidas, dificultad = seleccionar_dificultad()\n",
        "    errores = 0\n",
        "    puntuacion = 0\n",
        "\n",
        "    print(\"\\n¡Comienza el juego!\")\n",
        "\n",
        "    for i, datos in PREGUNTAS.items():\n",
        "        pregunta = datos[\"pregunta\"]\n",
        "        respuesta = datos[\"respuesta\"]\n",
        "\n",
        "        es_tercera = (i == 3)  # Pregunta especial con vida extra\n",
        "        vidas, puntuacion, errores, perdido = hacer_pregunta(\n",
        "            pregunta, respuesta, vidas, puntuacion, errores, dificultad, es_tercera\n",
        "        )\n",
        "\n",
        "        if perdido:\n",
        "            break\n",
        "\n",
        "    jugador = input(\"\\nIngresa el nombre del jugador: \")\n",
        "    return jugador, puntuacion\n",
        "\n",
        "\n",
        "def agregar_pregunta():\n",
        "#Permite al usuario agregar una nueva pregunta al diccionario.\n",
        "    nueva_pregunta = input(\"Escribe la nueva pregunta: \")\n",
        "    nueva_respuesta = input(\"Escribe la respuesta correcta: \").lower()\n",
        "    nuevo_id = max(PREGUNTAS.keys()) + 1  # siguiente clave numérica\n",
        "    PREGUNTAS[nuevo_id] = {\"pregunta\": nueva_pregunta, \"respuesta\": nueva_respuesta}\n",
        "    print(\"✅ Pregunta agregada correctamente.\")\n",
        "\n",
        "\n",
        "# -----------------------------\n",
        "# Programa principal\n",
        "# -----------------------------\n",
        "def main():\n",
        "    ultimo_nombre = \"\"\n",
        "    ultima_puntuacion = 0\n",
        "\n",
        "    while True:\n",
        "        opcion = mostrar_menu()\n",
        "\n",
        "        if opcion == \"1\":\n",
        "            ultimo_nombre, ultima_puntuacion = jugar_partida()\n",
        "            print(\"👋 ¡Gracias por jugar!\")\n",
        "\n",
        "        elif opcion == \"2\":\n",
        "            print(f\"El último jugador fue {ultimo_nombre} con una puntuación de {ultima_puntuacion}\")\n",
        "\n",
        "        elif opcion == \"3\":\n",
        "            agregar_pregunta()\n",
        "\n",
        "        elif opcion == \"4\":\n",
        "          print(\"👋 ¡Gracias por jugar!\")\n",
        "          break\n",
        "\n",
        "        else:\n",
        "            print(\"❌ Opción no válida\")\n",
        "\n",
        "\n",
        "# -----------------------------\n",
        "# Ejecutar programa\n",
        "# -----------------------------\n",
        "if __name__ == \"__main__\":  #Esta linea permite ejecutar el codigo al correr el script\n",
        "    main()"
      ],
      "metadata": {
        "colab": {
          "base_uri": "https://localhost:8080/"
        },
        "id": "Od3ztChJ6wdt",
        "outputId": "44033eec-90c2-4628-8f82-f26baa29554c"
      },
      "execution_count": null,
      "outputs": [
        {
          "output_type": "stream",
          "name": "stdout",
          "text": [
            "\n",
            "🎮 ¡Bienvenido al juego de preguntas!\n",
            "1. Jugar\n",
            "2. Ver puntuación anterior\n",
            "3. Agregar nueva pregunta\n",
            "4. Salir\n",
            "Elige una opción (1-4): 1\n",
            "\n",
            "Selecciona dificultad:\n",
            "1. Fácil - 5 vidas\n",
            "2. Difícil - 3 vidas\n",
            "3. Experto - 1 vida\n",
            "Selecciona la dificultad (1-3): 2\n",
            "\n",
            "¡Comienza el juego!\n",
            "¿Cuál es la capital de Francia? lisboa\n",
            "❌ Incorrecto. Llevas 1 fallos.\n",
            "¿Cuál es la capital de Francia? paris\n",
            "✅ Correcto! Puntuación actual: 25\n",
            "¿Cuánto es 5 + 7? 12\n",
            "✅ Correcto! Puntuación actual: 50\n",
            "¿Cuál es el color resultante de mezclar rojo y azul? morado\n",
            "✅ Correcto! Puntuación actual: 75\n",
            "💚 Ganaste una vida extra!\n",
            "¿Cómo se le llama a la estrella del sistema solar? sol\n",
            "✅ Correcto! Puntuación actual: 100\n",
            "\n",
            "Ingresa el nombre del jugador: Alex\n",
            "👋 ¡Gracias por jugar!\n",
            "\n",
            "🎮 ¡Bienvenido al juego de preguntas!\n",
            "1. Jugar\n",
            "2. Ver puntuación anterior\n",
            "3. Agregar nueva pregunta\n",
            "4. Salir\n",
            "Elige una opción (1-4): 2\n",
            "El último jugador fue Alex con una puntuación de 100\n",
            "\n",
            "🎮 ¡Bienvenido al juego de preguntas!\n",
            "1. Jugar\n",
            "2. Ver puntuación anterior\n",
            "3. Agregar nueva pregunta\n",
            "4. Salir\n",
            "Elige una opción (1-4): 3\n",
            "Escribe la nueva pregunta: ¿Cómo se llama el padre de la física clásica?\n",
            "Escribe la respuesta correcta: Newton\n",
            "✅ Pregunta agregada correctamente.\n",
            "\n",
            "🎮 ¡Bienvenido al juego de preguntas!\n",
            "1. Jugar\n",
            "2. Ver puntuación anterior\n",
            "3. Agregar nueva pregunta\n",
            "4. Salir\n",
            "Elige una opción (1-4): 1\n",
            "\n",
            "Selecciona dificultad:\n",
            "1. Fácil - 5 vidas\n",
            "2. Difícil - 3 vidas\n",
            "3. Experto - 1 vida\n",
            "Selecciona la dificultad (1-3): 3\n",
            "\n",
            "¡Comienza el juego!\n",
            "¿Cuál es la capital de Francia? paris\n",
            "✅ Correcto! Puntuación actual: 25\n",
            "¿Cuánto es 5 + 7? 12\n",
            "✅ Correcto! Puntuación actual: 50\n",
            "¿Cuál es el color resultante de mezclar rojo y azul? morado\n",
            "✅ Correcto! Puntuación actual: 75\n",
            "¿Cómo se le llama a la estrella del sistema solar? sol\n",
            "✅ Correcto! Puntuación actual: 100\n",
            "¿Cómo se llama el padre de la física clásica? newton\n",
            "✅ Correcto! Puntuación actual: 125\n",
            "\n",
            "Ingresa el nombre del jugador: Abimael\n",
            "👋 ¡Gracias por jugar!\n",
            "\n",
            "🎮 ¡Bienvenido al juego de preguntas!\n",
            "1. Jugar\n",
            "2. Ver puntuación anterior\n",
            "3. Agregar nueva pregunta\n",
            "4. Salir\n",
            "Elige una opción (1-4): 2\n",
            "El último jugador fue Abimael con una puntuación de 125\n",
            "\n",
            "🎮 ¡Bienvenido al juego de preguntas!\n",
            "1. Jugar\n",
            "2. Ver puntuación anterior\n",
            "3. Agregar nueva pregunta\n",
            "4. Salir\n",
            "Elige una opción (1-4): 4\n",
            "👋 ¡Gracias por jugar!\n"
          ]
        }
      ]
    },
    {
      "cell_type": "markdown",
      "source": [
        "##🏆 Desafío de Programación\n",
        "\n",
        "Tienes el código base del juego de preguntas en Python. Actualmente, el programa permite:\n",
        "\n",
        "* Jugar respondiendo preguntas.\n",
        "\n",
        "* Consultar la puntuación del último jugador.\n",
        "\n",
        "* Agregar nuevas preguntas al diccionario.\n",
        "\n",
        "Tu misión es mejorar el programa agregando dos nuevas funcionalidades:\n",
        "\n",
        "**Historial de jugadores y puntuaciones**\n",
        "\n",
        "* Cada vez que un jugador termine una partida, guarda su nombre y su puntuación en una lista (o diccionario).\n",
        "\n",
        "* Agrega una nueva opción en el menú para mostrar todos los jugadores que han jugado durante la ejecución del programa junto con sus puntuaciones.\n",
        "\n",
        "* No es necesario guardar en archivos, basta con mantenerlo en memoria mientras el programa esté abierto.\n",
        "\n",
        "**Listado de preguntas y respuestas**\n",
        "\n",
        "* Agrega otra opción en el menú que permita mostrar todas las preguntas y respuestas actuales que están guardadas en el diccionario PREGUNTAS.\n",
        "\n",
        "* Si el usuario agregó preguntas nuevas, también deben aparecer aquí."
      ],
      "metadata": {
        "id": "PE11uf4X_bG9"
      }
    },
    {
      "cell_type": "markdown",
      "source": [
        "# Tarea\n",
        "\n",
        "1. Investigar los siguientes métodos para **listas**:\n",
        "* `append()`\n",
        "* `insert()`\n",
        "* `remove()`\n",
        "* `pop()`\n",
        "* `clear()`\n",
        "* `sort()`\n",
        "* `reverse()`\n",
        "2. Investigar los siguientes métodos para **diccionarios**:\n",
        "* `get()`\n",
        "* `keys()`\n",
        "* `values()`\n",
        "* `items()`\n",
        "* `pop()`\n",
        "* `update()`\n",
        "* `clear()`\n",
        "3. Investigar los siguientes métodos para **strings**:\n",
        "* `upper()`\n",
        "* `lower()`\n",
        "* `strip()`\n",
        "* `replace()`\n",
        "* `split()`\n",
        "* `join()`\n",
        "* `find()`\n",
        "\n",
        "4. Crea un programa en Python que utilice los métodos investigados.\n",
        "  \n",
        "* Debes usar al menos 5 métodos en total (de los 21)\n",
        "\n",
        "* Debe ser un código funcional, aunque simple.\n",
        "\n",
        "* Ejemplo de lo que puedes hacer:\n",
        "\n",
        "  - Crear una lista de nombres y ordenarla.\n",
        "\n",
        "  - Crear un diccionario con datos de personas y mostrar sus claves y valores.\n",
        "\n",
        "  - Manipular cadenas de texto con mayúsculas, minúsculas, recortes y reemplazos.\n",
        "\n",
        "## Sitios recomendados para investigar:\n",
        "\n",
        "* [Documentación oficial Python](https://docs.python.org/es/3.13/tutorial/datastructures.html)\n",
        "\n",
        "* [w3schools](https://www.w3schools.com/python/ref_list_append.asp)\n",
        "\n",
        "\n",
        "## Instrucciones de entrega:\n",
        "* Adjuntar el código como captura(s) de pantalla (legible)\n",
        "\n",
        "* La tarea deberá entregarse únicamente en el Aula Virtual.\n",
        "\n",
        "* El archivo debe estar en formato PDF.\n",
        "\n",
        "* Fecha límite de entrega: miercoles 10 de septiembre a las 23:59.\n",
        "\n",
        "* Extensión máxima: 4 páginas."
      ],
      "metadata": {
        "id": "zlx_VRf-BQlU"
      }
    }
  ]
}